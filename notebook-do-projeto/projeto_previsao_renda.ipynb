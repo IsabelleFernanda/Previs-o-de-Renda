{
 "cells": [
  {
   "cell_type": "markdown",
   "metadata": {
    "id": "SNeMnA5fjjq_"
   },
   "source": [
    "# <b>Previsão De Renda</b>\n",
    "---\n"
   ]
  },
  {
   "cell_type": "markdown",
   "metadata": {
    "id": "rGmpLc1Bjmmf"
   },
   "source": [
    "# **1. Entendimento do Negócio** <a name=\"entendimento_negocio\"></a>  \n",
    "\n",
    "\n",
    "### **Objetivos do Projeto** \n",
    "\n",
    "<p align='justify'>Este projeto tem como objetivo desenvolver um modelo de <b>Machine Learning</b> para prever a renda de indivíduos com base em dados históricos e variáveis socioeconômicas. Uma previsão precisa da renda pode ser valiosa para diversas aplicações, como análise de crédito, formulação de políticas públicas, estudos de mercado e planejamento financeiro. Este projeto integra o curso de Ciência de Dados da EBAC.</p>  \n",
    "\n",
    "\n",
    "Essa versão melhora a fluidez, torna a leitura mais envolvente e destaca melhor o contexto do projeto.\n",
    "\n",
    "\n",
    "### **Contexto**  \n",
    "\n",
    "\n",
    "<p align='justify'>A renda de uma pessoa pode ser influenciada por diversos fatores, como nível de escolaridade, profissão, idade, gênero e outros aspectos socioeconômicos. Modelar essa relação por meio de técnicas de Machine Learning permite identificar padrões ocultos nos dados e fornecer previsões mais precisas.</p>\n",
    "\n",
    "<p align='justify'>Neste projeto, utilizamos um conjunto de dados contendo informações individuais e características relevantes para a estimativa de renda. O objetivo é construir um modelo preditivo que possa auxiliar na análise de diferentes perfis de renda e apoiar decisões estratégicas baseadas em dados.</p>  \n",
    "\n",
    "\n",
    "----"
   ]
  },
  {
   "cell_type": "markdown",
   "metadata": {
    "id": "xkP--lCtjpKn"
   },
   "source": [
    "# 2. Entendimento dos Dados  <a name=\"entendimento_dados\"></a>\n",
    "\n",
    "<div style=\"text-align: justify\"\n",
    "  \n",
    "Nesta etapa do projeto, exploramos os dados para entender suas características, padrões e possíveis problemas. Utilizamos **análises univariadas** e **bivariadas** para explorar as distribuições de variáveis individuais e as relações entre variáveis.\n",
    "\n",
    "[Voltar ao índice](#Contents)"
   ]
  },
  {
   "cell_type": "markdown",
   "metadata": {
    "id": "ORCAiXerpIU1"
   },
   "source": [
    "## Import das bibliotecas/pacotes <a name=\"bibliotecas\"></a>\n",
    "\n",
    "Aqui concentrarei todas as bibliotecas utilizadas durante o projeto\n",
    "\n",
    "[Voltar ao índice](#Contents)"
   ]
  },
  {
   "cell_type": "code",
   "execution_count": 5,
   "metadata": {
    "id": "e2gJ_huypJWs"
   },
   "outputs": [],
   "source": [
    "# ===============================\n",
    "# Bibliotecas para manipulação de dados\n",
    "# ===============================\n",
    "import pandas as pd\n",
    "import numpy as np\n",
    "\n",
    "# ===============================\n",
    "# Bibliotecas para visualização de dados\n",
    "# ===============================\n",
    "import matplotlib.pyplot as plt\n",
    "import seaborn as sns\n",
    "import plotly.express as px\n",
    "from sklearn import tree  # Para exibição de árvores de decisão\n",
    "\n",
    "# ===============================\n",
    "# Bibliotecas para estatísticas e modelagem estatística\n",
    "# ===============================\n",
    "import statsmodels.api as sm\n",
    "import statsmodels.formula.api as smf\n",
    "import patsy\n",
    "\n",
    "# ===============================\n",
    "# Bibliotecas para Machine Learning\n",
    "# ===============================\n",
    "from sklearn.model_selection import train_test_split, GridSearchCV\n",
    "from sklearn.linear_model import Lasso, Ridge, ElasticNet, LinearRegression\n",
    "from sklearn.tree import DecisionTreeClassifier, DecisionTreeRegressor\n",
    "from sklearn import datasets\n",
    "\n",
    "# ===============================\n",
    "# Bibliotecas para avaliação de modelos\n",
    "# ===============================\n",
    "from sklearn.metrics import accuracy_score,confusion_matrix,mean_absolute_error,mean_squared_error, r2_score\n",
    "\n",
    "# ===============================\n",
    "# Outras bibliotecas\n",
    "# ===============================\n",
    "import warnings\n",
    "warnings.filterwarnings('ignore')\n"
   ]
  },
  {
   "cell_type": "markdown",
   "metadata": {
    "id": "II_EadQqoTfu"
   },
   "source": [
    "## Importação dos Dados <a name=\"importacao_dados\"></a>\n",
    "\n",
    "Nesta etapa, importaremos a base de dados que será utilizada ao longo do projeto.\n",
    "\n",
    "[Voltar ao índice](#Contents)"
   ]
  },
  {
   "cell_type": "code",
   "execution_count": 7,
   "metadata": {
    "id": "hS3aDizvpaiU"
   },
   "outputs": [
    {
     "ename": "FileNotFoundError",
     "evalue": "[Errno 2] No such file or directory: 'previsao_de_renda.csv'",
     "output_type": "error",
     "traceback": [
      "\u001b[1;31m---------------------------------------------------------------------------\u001b[0m",
      "\u001b[1;31mFileNotFoundError\u001b[0m                         Traceback (most recent call last)",
      "Cell \u001b[1;32mIn[7], line 3\u001b[0m\n\u001b[0;32m      1\u001b[0m \u001b[38;5;66;03m# Importando a base de Dados\u001b[39;00m\n\u001b[1;32m----> 3\u001b[0m df \u001b[38;5;241m=\u001b[39m pd\u001b[38;5;241m.\u001b[39mread_csv(\u001b[38;5;124m'\u001b[39m\u001b[38;5;124mprevisao_de_renda.csv\u001b[39m\u001b[38;5;124m'\u001b[39m)\n",
      "File \u001b[1;32m~\\anaconda3\\Lib\\site-packages\\pandas\\io\\parsers\\readers.py:1026\u001b[0m, in \u001b[0;36mread_csv\u001b[1;34m(filepath_or_buffer, sep, delimiter, header, names, index_col, usecols, dtype, engine, converters, true_values, false_values, skipinitialspace, skiprows, skipfooter, nrows, na_values, keep_default_na, na_filter, verbose, skip_blank_lines, parse_dates, infer_datetime_format, keep_date_col, date_parser, date_format, dayfirst, cache_dates, iterator, chunksize, compression, thousands, decimal, lineterminator, quotechar, quoting, doublequote, escapechar, comment, encoding, encoding_errors, dialect, on_bad_lines, delim_whitespace, low_memory, memory_map, float_precision, storage_options, dtype_backend)\u001b[0m\n\u001b[0;32m   1013\u001b[0m kwds_defaults \u001b[38;5;241m=\u001b[39m _refine_defaults_read(\n\u001b[0;32m   1014\u001b[0m     dialect,\n\u001b[0;32m   1015\u001b[0m     delimiter,\n\u001b[1;32m   (...)\u001b[0m\n\u001b[0;32m   1022\u001b[0m     dtype_backend\u001b[38;5;241m=\u001b[39mdtype_backend,\n\u001b[0;32m   1023\u001b[0m )\n\u001b[0;32m   1024\u001b[0m kwds\u001b[38;5;241m.\u001b[39mupdate(kwds_defaults)\n\u001b[1;32m-> 1026\u001b[0m \u001b[38;5;28;01mreturn\u001b[39;00m _read(filepath_or_buffer, kwds)\n",
      "File \u001b[1;32m~\\anaconda3\\Lib\\site-packages\\pandas\\io\\parsers\\readers.py:620\u001b[0m, in \u001b[0;36m_read\u001b[1;34m(filepath_or_buffer, kwds)\u001b[0m\n\u001b[0;32m    617\u001b[0m _validate_names(kwds\u001b[38;5;241m.\u001b[39mget(\u001b[38;5;124m\"\u001b[39m\u001b[38;5;124mnames\u001b[39m\u001b[38;5;124m\"\u001b[39m, \u001b[38;5;28;01mNone\u001b[39;00m))\n\u001b[0;32m    619\u001b[0m \u001b[38;5;66;03m# Create the parser.\u001b[39;00m\n\u001b[1;32m--> 620\u001b[0m parser \u001b[38;5;241m=\u001b[39m TextFileReader(filepath_or_buffer, \u001b[38;5;241m*\u001b[39m\u001b[38;5;241m*\u001b[39mkwds)\n\u001b[0;32m    622\u001b[0m \u001b[38;5;28;01mif\u001b[39;00m chunksize \u001b[38;5;129;01mor\u001b[39;00m iterator:\n\u001b[0;32m    623\u001b[0m     \u001b[38;5;28;01mreturn\u001b[39;00m parser\n",
      "File \u001b[1;32m~\\anaconda3\\Lib\\site-packages\\pandas\\io\\parsers\\readers.py:1620\u001b[0m, in \u001b[0;36mTextFileReader.__init__\u001b[1;34m(self, f, engine, **kwds)\u001b[0m\n\u001b[0;32m   1617\u001b[0m     \u001b[38;5;28mself\u001b[39m\u001b[38;5;241m.\u001b[39moptions[\u001b[38;5;124m\"\u001b[39m\u001b[38;5;124mhas_index_names\u001b[39m\u001b[38;5;124m\"\u001b[39m] \u001b[38;5;241m=\u001b[39m kwds[\u001b[38;5;124m\"\u001b[39m\u001b[38;5;124mhas_index_names\u001b[39m\u001b[38;5;124m\"\u001b[39m]\n\u001b[0;32m   1619\u001b[0m \u001b[38;5;28mself\u001b[39m\u001b[38;5;241m.\u001b[39mhandles: IOHandles \u001b[38;5;241m|\u001b[39m \u001b[38;5;28;01mNone\u001b[39;00m \u001b[38;5;241m=\u001b[39m \u001b[38;5;28;01mNone\u001b[39;00m\n\u001b[1;32m-> 1620\u001b[0m \u001b[38;5;28mself\u001b[39m\u001b[38;5;241m.\u001b[39m_engine \u001b[38;5;241m=\u001b[39m \u001b[38;5;28mself\u001b[39m\u001b[38;5;241m.\u001b[39m_make_engine(f, \u001b[38;5;28mself\u001b[39m\u001b[38;5;241m.\u001b[39mengine)\n",
      "File \u001b[1;32m~\\anaconda3\\Lib\\site-packages\\pandas\\io\\parsers\\readers.py:1880\u001b[0m, in \u001b[0;36mTextFileReader._make_engine\u001b[1;34m(self, f, engine)\u001b[0m\n\u001b[0;32m   1878\u001b[0m     \u001b[38;5;28;01mif\u001b[39;00m \u001b[38;5;124m\"\u001b[39m\u001b[38;5;124mb\u001b[39m\u001b[38;5;124m\"\u001b[39m \u001b[38;5;129;01mnot\u001b[39;00m \u001b[38;5;129;01min\u001b[39;00m mode:\n\u001b[0;32m   1879\u001b[0m         mode \u001b[38;5;241m+\u001b[39m\u001b[38;5;241m=\u001b[39m \u001b[38;5;124m\"\u001b[39m\u001b[38;5;124mb\u001b[39m\u001b[38;5;124m\"\u001b[39m\n\u001b[1;32m-> 1880\u001b[0m \u001b[38;5;28mself\u001b[39m\u001b[38;5;241m.\u001b[39mhandles \u001b[38;5;241m=\u001b[39m get_handle(\n\u001b[0;32m   1881\u001b[0m     f,\n\u001b[0;32m   1882\u001b[0m     mode,\n\u001b[0;32m   1883\u001b[0m     encoding\u001b[38;5;241m=\u001b[39m\u001b[38;5;28mself\u001b[39m\u001b[38;5;241m.\u001b[39moptions\u001b[38;5;241m.\u001b[39mget(\u001b[38;5;124m\"\u001b[39m\u001b[38;5;124mencoding\u001b[39m\u001b[38;5;124m\"\u001b[39m, \u001b[38;5;28;01mNone\u001b[39;00m),\n\u001b[0;32m   1884\u001b[0m     compression\u001b[38;5;241m=\u001b[39m\u001b[38;5;28mself\u001b[39m\u001b[38;5;241m.\u001b[39moptions\u001b[38;5;241m.\u001b[39mget(\u001b[38;5;124m\"\u001b[39m\u001b[38;5;124mcompression\u001b[39m\u001b[38;5;124m\"\u001b[39m, \u001b[38;5;28;01mNone\u001b[39;00m),\n\u001b[0;32m   1885\u001b[0m     memory_map\u001b[38;5;241m=\u001b[39m\u001b[38;5;28mself\u001b[39m\u001b[38;5;241m.\u001b[39moptions\u001b[38;5;241m.\u001b[39mget(\u001b[38;5;124m\"\u001b[39m\u001b[38;5;124mmemory_map\u001b[39m\u001b[38;5;124m\"\u001b[39m, \u001b[38;5;28;01mFalse\u001b[39;00m),\n\u001b[0;32m   1886\u001b[0m     is_text\u001b[38;5;241m=\u001b[39mis_text,\n\u001b[0;32m   1887\u001b[0m     errors\u001b[38;5;241m=\u001b[39m\u001b[38;5;28mself\u001b[39m\u001b[38;5;241m.\u001b[39moptions\u001b[38;5;241m.\u001b[39mget(\u001b[38;5;124m\"\u001b[39m\u001b[38;5;124mencoding_errors\u001b[39m\u001b[38;5;124m\"\u001b[39m, \u001b[38;5;124m\"\u001b[39m\u001b[38;5;124mstrict\u001b[39m\u001b[38;5;124m\"\u001b[39m),\n\u001b[0;32m   1888\u001b[0m     storage_options\u001b[38;5;241m=\u001b[39m\u001b[38;5;28mself\u001b[39m\u001b[38;5;241m.\u001b[39moptions\u001b[38;5;241m.\u001b[39mget(\u001b[38;5;124m\"\u001b[39m\u001b[38;5;124mstorage_options\u001b[39m\u001b[38;5;124m\"\u001b[39m, \u001b[38;5;28;01mNone\u001b[39;00m),\n\u001b[0;32m   1889\u001b[0m )\n\u001b[0;32m   1890\u001b[0m \u001b[38;5;28;01massert\u001b[39;00m \u001b[38;5;28mself\u001b[39m\u001b[38;5;241m.\u001b[39mhandles \u001b[38;5;129;01mis\u001b[39;00m \u001b[38;5;129;01mnot\u001b[39;00m \u001b[38;5;28;01mNone\u001b[39;00m\n\u001b[0;32m   1891\u001b[0m f \u001b[38;5;241m=\u001b[39m \u001b[38;5;28mself\u001b[39m\u001b[38;5;241m.\u001b[39mhandles\u001b[38;5;241m.\u001b[39mhandle\n",
      "File \u001b[1;32m~\\anaconda3\\Lib\\site-packages\\pandas\\io\\common.py:873\u001b[0m, in \u001b[0;36mget_handle\u001b[1;34m(path_or_buf, mode, encoding, compression, memory_map, is_text, errors, storage_options)\u001b[0m\n\u001b[0;32m    868\u001b[0m \u001b[38;5;28;01melif\u001b[39;00m \u001b[38;5;28misinstance\u001b[39m(handle, \u001b[38;5;28mstr\u001b[39m):\n\u001b[0;32m    869\u001b[0m     \u001b[38;5;66;03m# Check whether the filename is to be opened in binary mode.\u001b[39;00m\n\u001b[0;32m    870\u001b[0m     \u001b[38;5;66;03m# Binary mode does not support 'encoding' and 'newline'.\u001b[39;00m\n\u001b[0;32m    871\u001b[0m     \u001b[38;5;28;01mif\u001b[39;00m ioargs\u001b[38;5;241m.\u001b[39mencoding \u001b[38;5;129;01mand\u001b[39;00m \u001b[38;5;124m\"\u001b[39m\u001b[38;5;124mb\u001b[39m\u001b[38;5;124m\"\u001b[39m \u001b[38;5;129;01mnot\u001b[39;00m \u001b[38;5;129;01min\u001b[39;00m ioargs\u001b[38;5;241m.\u001b[39mmode:\n\u001b[0;32m    872\u001b[0m         \u001b[38;5;66;03m# Encoding\u001b[39;00m\n\u001b[1;32m--> 873\u001b[0m         handle \u001b[38;5;241m=\u001b[39m \u001b[38;5;28mopen\u001b[39m(\n\u001b[0;32m    874\u001b[0m             handle,\n\u001b[0;32m    875\u001b[0m             ioargs\u001b[38;5;241m.\u001b[39mmode,\n\u001b[0;32m    876\u001b[0m             encoding\u001b[38;5;241m=\u001b[39mioargs\u001b[38;5;241m.\u001b[39mencoding,\n\u001b[0;32m    877\u001b[0m             errors\u001b[38;5;241m=\u001b[39merrors,\n\u001b[0;32m    878\u001b[0m             newline\u001b[38;5;241m=\u001b[39m\u001b[38;5;124m\"\u001b[39m\u001b[38;5;124m\"\u001b[39m,\n\u001b[0;32m    879\u001b[0m         )\n\u001b[0;32m    880\u001b[0m     \u001b[38;5;28;01melse\u001b[39;00m:\n\u001b[0;32m    881\u001b[0m         \u001b[38;5;66;03m# Binary mode\u001b[39;00m\n\u001b[0;32m    882\u001b[0m         handle \u001b[38;5;241m=\u001b[39m \u001b[38;5;28mopen\u001b[39m(handle, ioargs\u001b[38;5;241m.\u001b[39mmode)\n",
      "\u001b[1;31mFileNotFoundError\u001b[0m: [Errno 2] No such file or directory: 'previsao_de_renda.csv'"
     ]
    }
   ],
   "source": [
    "# Importando a base de Dados\n",
    "\n",
    "df = pd.read_csv('previsao_de_renda.csv')"
   ]
  },
  {
   "cell_type": "code",
   "execution_count": null,
   "metadata": {
    "id": "ZXbUFrNbjvFU"
   },
   "outputs": [],
   "source": [
    "# Excluindo a coluna 'Unnamed:0'\n",
    "\n",
    "df = df.drop(columns = 'Unnamed: 0', axis =1)"
   ]
  },
  {
   "cell_type": "markdown",
   "metadata": {
    "id": "L6kqq79fpfAk"
   },
   "source": [
    "## Informações e visualização dos dados importados <a name=\"info\"></a>\n",
    "Iniciaremos a exploração visualizando as 5 primeiras e 5 últimas entradas do DataFrame, obtendo assim uma visão geral de sua organização.\n",
    "\n",
    "\n",
    "[Voltar ao índice](#Contents)"
   ]
  },
  {
   "cell_type": "code",
   "execution_count": null,
   "metadata": {
    "colab": {
     "base_uri": "https://localhost:8080/",
     "height": 206
    },
    "executionInfo": {
     "elapsed": 22,
     "status": "ok",
     "timestamp": 1738136298872,
     "user": {
      "displayName": "Isabelle Silva",
      "userId": "10813796348006610117"
     },
     "user_tz": 180
    },
    "id": "SiWdMPzXpfgk",
    "outputId": "f16eeec1-e640-43a3-d213-a3ad2f3580d7"
   },
   "outputs": [],
   "source": [
    "# Vizualizando as 5 primeiras linhas\n",
    "\n",
    "df.head()"
   ]
  },
  {
   "cell_type": "code",
   "execution_count": null,
   "metadata": {
    "colab": {
     "base_uri": "https://localhost:8080/",
     "height": 206
    },
    "executionInfo": {
     "elapsed": 20,
     "status": "ok",
     "timestamp": 1738136298872,
     "user": {
      "displayName": "Isabelle Silva",
      "userId": "10813796348006610117"
     },
     "user_tz": 180
    },
    "id": "4WjT5wxGpfjd",
    "outputId": "69bda585-318c-4fb2-d627-6a34a250f80a"
   },
   "outputs": [],
   "source": [
    "# Vizualizando as 5 últimas linhas\n",
    "\n",
    "df.tail()"
   ]
  },
  {
   "cell_type": "markdown",
   "metadata": {
    "id": "Zl4x0vqeoTi_"
   },
   "source": [
    "## Dicionário das variáveis\n",
    "\n",
    "Com as 5 primeiras entradas impressas na tela, podemos ter então uma noção de como os dados estão estruturados, bem como quais são as variáveis mais importantes para o início da investigação. A seguir apresentaremos uma tabela contendo o significado de cada variável do DataFrame:"
   ]
  },
  {
   "cell_type": "markdown",
   "metadata": {
    "id": "A0H5VNp-plv0"
   },
   "source": [
    "### Dicionário de dados\n",
    "\n",
    "\n",
    "| Variable Name   | Description | Tipo  |\n",
    "|-|-|-|\n",
    "| data_ref |Data em que liente foi Cadastrado|String|\n",
    "| id_cliente|Número de identificação do cliente|Int|\n",
    "| sexo| M = 'Masculino'; F = 'Feminino' |String|\n",
    "| posse_de_veiculo| Y = 'possui'; N = 'não possui' |Boolean|\n",
    "| posse_de_imovel| Y = 'possui'; N = 'não possui' |Boolean|\n",
    "| qtd_filhos| Quantidade de filhos |Int|\n",
    "| tipo_renda|Tipo de renda (ex: assaliariado, autônomo etc) | String |\n",
    "| educacao| Nível de educação (ex: secundário, superior etc) |String|\n",
    "| estado_civil | Estado civil (ex: solteiro, casado etc)| String |\n",
    "| tipo_residencia | tipo de residência (ex: casa/apartamento, com os pais etc) | String |\n",
    "| idade | idade em anos |Int|\n",
    "| tempo de emprego | tempo de emprego em anos |Int|\n",
    "| qt_pessoas_residencia | quantidade de pessoas na residência |Int|\n",
    "| renda| Valor recebido mensalmente| Int|"
   ]
  },
  {
   "cell_type": "markdown",
   "metadata": {
    "id": "A1dN_HNkppi8"
   },
   "source": [
    "## Analisando a estrutura do Dataset <a name=estrutura></a>\n",
    "\n",
    "Nesta etapa do projeto, realizaremos uma análise detalhada da estrutura dos dados, incluindo o número de linhas e colunas, os nomes das colunas, os tipos de dados de cada variável e outras informações relevantes que nos ajudarão a entender melhor o conjunto de dados.\n",
    "\n",
    "<div style=\"text-align: right\"\n",
    "     \n",
    "[Voltar ao índice](#Contents)"
   ]
  },
  {
   "cell_type": "markdown",
   "metadata": {
    "id": "punrdGioMNuq"
   },
   "source": [
    "- Obtendo a Forma do Dataframe"
   ]
  },
  {
   "cell_type": "code",
   "execution_count": null,
   "metadata": {
    "colab": {
     "base_uri": "https://localhost:8080/"
    },
    "executionInfo": {
     "elapsed": 19,
     "status": "ok",
     "timestamp": 1738136298873,
     "user": {
      "displayName": "Isabelle Silva",
      "userId": "10813796348006610117"
     },
     "user_tz": 180
    },
    "id": "X2F76irxpqCc",
    "outputId": "ff441f5f-7e4f-4f80-ea28-81f78f9b39e1"
   },
   "outputs": [],
   "source": [
    "df.shape"
   ]
  },
  {
   "cell_type": "markdown",
   "metadata": {
    "id": "LfqQw5Q2MNur"
   },
   "source": [
    "- Visualizando as colunas do Dataframe"
   ]
  },
  {
   "cell_type": "code",
   "execution_count": null,
   "metadata": {
    "colab": {
     "base_uri": "https://localhost:8080/"
    },
    "executionInfo": {
     "elapsed": 15,
     "status": "ok",
     "timestamp": 1738136298873,
     "user": {
      "displayName": "Isabelle Silva",
      "userId": "10813796348006610117"
     },
     "user_tz": 180
    },
    "id": "9aOqHPoypqF8",
    "outputId": "694c5cb1-5b8c-493b-ff90-26dba3dbc25d"
   },
   "outputs": [],
   "source": [
    "df.columns"
   ]
  },
  {
   "cell_type": "markdown",
   "metadata": {
    "id": "JsXxv6ozMNus"
   },
   "source": [
    "- Obtendo as Informações do Dataframe"
   ]
  },
  {
   "cell_type": "code",
   "execution_count": null,
   "metadata": {
    "colab": {
     "base_uri": "https://localhost:8080/"
    },
    "executionInfo": {
     "elapsed": 1097,
     "status": "ok",
     "timestamp": 1738136299957,
     "user": {
      "displayName": "Isabelle Silva",
      "userId": "10813796348006610117"
     },
     "user_tz": 180
    },
    "id": "FrCieFF2pqIk",
    "outputId": "04038698-de20-4364-c326-153d1fcbb343"
   },
   "outputs": [],
   "source": [
    "df.info()"
   ]
  },
  {
   "cell_type": "markdown",
   "metadata": {
    "id": "AgviImf1qYMD"
   },
   "source": [
    "<p align = 'justify'>A análise inicial do dataset revelou um conjunto de dados com 15.000 observações e 14 features. Entre essas features, identificamos 6 variáveis categóricas, 6 numéricas e 2 booleanas. A variável <b><code>tempo_emprego</b></code> apresenta valores ausentes, o que demandará tratamento específico. Além disso a variável <b><code>data_ref</b></code>, embora contenha informações de data, está atualmente classificada como categórica. Essa inconsistência será corrigida em uma etapa posterior, convertendo a variável para o tipo datetime. Outro ponto será a remoção da variável <b><code>id_cliente </b></code> que aparentemente não oferece nehuma agregação para a analise.</p>\n",
    "\n",
    "----"
   ]
  },
  {
   "cell_type": "markdown",
   "metadata": {
    "id": "wnmYU-CEk9uN"
   },
   "source": [
    "## Análise Univariada <a name=analise_univariada></a>\n",
    "\n",
    "<p align ='justify'>Nesta etapa do projeto, vamos realizar uma <b>análise individualizada de cada variável</b> e, para isso, desenvolveremos duas funções auxiliares que otimizarão e simplificarão o processo de visualização gráfica das variáveis do nosso conjunto de dados. O objetivo é facilitar a análise univariada, permitindo uma exploração detalhada de cada variável. A primeira função será responsável por gerar gráficos de barras utilizando o método <code>plot.bar</code>, indicado para variáveis categóricas, enquanto a segunda função utilizará o <code>histplot</code>, ideal para representar a distribuição de variáveis numéricas. Essas funções proporcionarão uma análise mais eficiente e intuitiva de cada variável, aprimorando a interpretação dos dados e a comunicação dos resultados.</p>\n",
    "     \n",
    "[Voltar ao índice](#Contents)\n",
    "\n"
   ]
  },
  {
   "cell_type": "markdown",
   "metadata": {
    "id": "_RGS4zLXW8zZ"
   },
   "source": [
    "- Função para Variáveis Categóricas"
   ]
  },
  {
   "cell_type": "code",
   "execution_count": null,
   "metadata": {
    "id": "KlP6i_VZW98x"
   },
   "outputs": [],
   "source": [
    "def distribuicao_categorica(column):\n",
    "\n",
    "  '''Essa função servirá para criar gráficos de barras das variáveis categóricas de forma automatizada, sem precisar repetir o código várias vezes.\n",
    "  '''\n",
    "\n",
    "  plt.figure(figsize=(8, 6))  # Define o tamanho do gráfico\n",
    "\n",
    "  # Criar o gráfico de barras com a paleta personalizada\n",
    "  grafico_barras = df[column].value_counts().plot.bar()\n",
    "  plt.title(f'Distribuição de {column}', fontsize=14)  # Título do gráfico\n",
    "  plt.xlabel(column, fontsize=12)  # Rótulo do eixo X\n",
    "  plt.ylabel('Contagem', fontsize=12)  # Rótulo do eixo Y\n",
    "  plt.xticks(rotation=45)  # Gira os rótulos do eixo X para melhor leitura\n",
    "  plt.tight_layout()  # Ajusta o layout para evitar sobreposição\n",
    "  plt.show()  # Exibe o gráfico"
   ]
  },
  {
   "cell_type": "markdown",
   "metadata": {
    "id": "_2xvxGuDW8_Z"
   },
   "source": [
    "- Função para Variáveis Numéricas"
   ]
  },
  {
   "cell_type": "code",
   "execution_count": null,
   "metadata": {
    "id": "1CgjwdU6XI3Z"
   },
   "outputs": [],
   "source": [
    "def distribuicao_numerica(column):\n",
    "  '''Essa função ajudará a visualizar distribuições de variáveis numéricas através do histplot'''\n",
    "\n",
    "  plt.figure(figsize=(8, 6))  # Define o tamanho do gráfico\n",
    "  sns.set_theme(style='darkgrid') # Define o tema escuro para os gráficos\n",
    "  # Criar o gráfico de barras com a paleta personalizada\n",
    "  sns.histplot(df, x = column, bins = 50)\n",
    "  plt.title(f'Distribuição de {column}', fontsize=14)  # Título do gráfico\n",
    "  plt.xlabel(column, fontsize=12)  # Rótulo do eixo X\n",
    "  plt.ylabel('Contagem', fontsize=12)  # Rótulo do eixo Y\n",
    "  plt.xticks(rotation=45)  # Gira os rótulos do eixo X para melhor leitura\n",
    "  plt.tight_layout()  # Ajusta o layout para evitar sobreposição\n",
    "  plt.show()  # Exibe o gráfico"
   ]
  },
  {
   "cell_type": "markdown",
   "metadata": {
    "id": "4hhzdLhPXPih"
   },
   "source": [
    "###  Atributos **categóricos**\n",
    "\n",
    "Nesta etapa, concentraremos nossa atenção na análise das variáveis categóricas, buscando entender suas características e comportamentos dentro do conjunto de dados."
   ]
  },
  {
   "cell_type": "markdown",
   "metadata": {
    "id": "ukgHVLG2Zl7f"
   },
   "source": [
    "- Distribuição da variável **`sexo`**"
   ]
  },
  {
   "cell_type": "code",
   "execution_count": null,
   "metadata": {
    "colab": {
     "base_uri": "https://localhost:8080/",
     "height": 607
    },
    "executionInfo": {
     "elapsed": 18,
     "status": "ok",
     "timestamp": 1738136299958,
     "user": {
      "displayName": "Isabelle Silva",
      "userId": "10813796348006610117"
     },
     "user_tz": 180
    },
    "id": "W_T5SXZwYSGA",
    "outputId": "9e2a450d-0a62-4ec2-dda1-ba48ae80adaf"
   },
   "outputs": [],
   "source": [
    "distribuicao_categorica('sexo')"
   ]
  },
  {
   "cell_type": "markdown",
   "metadata": {
    "id": "f894WHW1Zt3-"
   },
   "source": [
    "<p align=\"justify\">A análise da variável <b><code>sexo</code></b> mostrou que a maioria dos clientes na base de dados é do sexo feminino, evidenciando a predominância desse grupo.</p>"
   ]
  },
  {
   "cell_type": "markdown",
   "metadata": {
    "id": "Y39qu8sPZt7I"
   },
   "source": [
    "- Distribuição da variável **`tipo_renda`**"
   ]
  },
  {
   "cell_type": "code",
   "execution_count": null,
   "metadata": {
    "colab": {
     "base_uri": "https://localhost:8080/",
     "height": 607
    },
    "executionInfo": {
     "elapsed": 16,
     "status": "ok",
     "timestamp": 1738136299958,
     "user": {
      "displayName": "Isabelle Silva",
      "userId": "10813796348006610117"
     },
     "user_tz": 180
    },
    "id": "Nlr2nYyGYWSS",
    "outputId": "99ba64fa-03b4-491f-e7c1-875dfc358244"
   },
   "outputs": [],
   "source": [
    "distribuicao_categorica('tipo_renda')"
   ]
  },
  {
   "cell_type": "markdown",
   "metadata": {
    "id": "yz_yBPHCZ0ZW"
   },
   "source": [
    "Após analisar a variável **`tipo_renda`**, observamos uma concentração em clientes que são **assalariados**."
   ]
  },
  {
   "cell_type": "markdown",
   "metadata": {
    "id": "O5nyBZbMZ0cJ"
   },
   "source": [
    "- Distribuição da variável **`estado_civil`**"
   ]
  },
  {
   "cell_type": "code",
   "execution_count": null,
   "metadata": {
    "colab": {
     "base_uri": "https://localhost:8080/",
     "height": 607
    },
    "executionInfo": {
     "elapsed": 324,
     "status": "ok",
     "timestamp": 1738136300268,
     "user": {
      "displayName": "Isabelle Silva",
      "userId": "10813796348006610117"
     },
     "user_tz": 180
    },
    "id": "sGDyr6BqYWVQ",
    "outputId": "abfc0c7b-3dcc-41e6-d0a9-800b8bcd709b"
   },
   "outputs": [],
   "source": [
    "distribuicao_categorica('estado_civil')"
   ]
  },
  {
   "cell_type": "markdown",
   "metadata": {
    "id": "reJqQeNhZ3Iu"
   },
   "source": [
    "Após a análise da variável <b><code>estado_civil</b></code>, identificamos uma concentração significativa de clientes casados, enquanto os demais estados civis apresentam distribuições relativamente equilibradas entre si."
   ]
  },
  {
   "cell_type": "markdown",
   "metadata": {
    "id": "39o0kRY2Z3LN"
   },
   "source": [
    "- Distribuição da variável **`educacao`**"
   ]
  },
  {
   "cell_type": "code",
   "execution_count": null,
   "metadata": {
    "colab": {
     "base_uri": "https://localhost:8080/",
     "height": 607
    },
    "executionInfo": {
     "elapsed": 1039,
     "status": "ok",
     "timestamp": 1738136301299,
     "user": {
      "displayName": "Isabelle Silva",
      "userId": "10813796348006610117"
     },
     "user_tz": 180
    },
    "id": "e8V-8IxwYWXh",
    "outputId": "7ef16b6e-b521-43b1-d9b6-e2bd4298b474"
   },
   "outputs": [],
   "source": [
    "distribuicao_categorica('educacao')"
   ]
  },
  {
   "cell_type": "markdown",
   "metadata": {
    "id": "z1g2h8byZ4Bm"
   },
   "source": [
    "<p align=\"justify\">Após a análise da variável <b><code>escolaridade</code></b>, verificamos que a <b>maioria dos clientes possui escolaridade secundária</b>, ou seja, concluíram até o ensino médio. Em seguida, a escolaridade superior completa apresenta a segunda maior concentração, embora em menor proporção. Já os demais níveis educacionais apresentam mostram proporções relativamente baixas e homogêneas entre si, sem variações significativas."
   ]
  },
  {
   "cell_type": "markdown",
   "metadata": {
    "id": "kd7CMNZZZ4ER"
   },
   "source": [
    "- Distribuição da variável **`tipo_residencia`**"
   ]
  },
  {
   "cell_type": "code",
   "execution_count": null,
   "metadata": {
    "colab": {
     "base_uri": "https://localhost:8080/",
     "height": 607
    },
    "executionInfo": {
     "elapsed": 17,
     "status": "ok",
     "timestamp": 1738136301299,
     "user": {
      "displayName": "Isabelle Silva",
      "userId": "10813796348006610117"
     },
     "user_tz": 180
    },
    "id": "AKlsKqK6YSK6",
    "outputId": "f288e788-fd79-461e-bcff-ddfe25b9340a"
   },
   "outputs": [],
   "source": [
    "distribuicao_categorica('tipo_residencia')"
   ]
  },
  {
   "cell_type": "markdown",
   "metadata": {
    "id": "U-8u71NZZ5LV"
   },
   "source": [
    "<p align=\"justify\">Após a análise da variável <b><code>tipo_residencia</b></code>, identificamos <b>uma concentração significativa de clientes que residem em casas</b>, enquanto os demais tipo de residência apresentam apresentam proporções relativamente baixas e homogêneas entre si, sem variações significativas"
   ]
  },
  {
   "cell_type": "markdown",
   "metadata": {
    "id": "FFixZLSqZ5OC"
   },
   "source": [
    "- Distribuição da variável **`posse_de_veiculo`**"
   ]
  },
  {
   "cell_type": "code",
   "execution_count": null,
   "metadata": {
    "colab": {
     "base_uri": "https://localhost:8080/",
     "height": 607
    },
    "executionInfo": {
     "elapsed": 16,
     "status": "ok",
     "timestamp": 1738136301300,
     "user": {
      "displayName": "Isabelle Silva",
      "userId": "10813796348006610117"
     },
     "user_tz": 180
    },
    "id": "8tc-SWaTZJcP",
    "outputId": "4bd5c22d-8c12-48cb-fb32-ce42af41a2a6"
   },
   "outputs": [],
   "source": [
    "distribuicao_categorica('posse_de_veiculo')"
   ]
  },
  {
   "cell_type": "markdown",
   "metadata": {
    "id": "Al4ega0HZ6A-"
   },
   "source": [
    "Após a analise da variável **`posse_de_veiculo`** identificamos que a maioria dos clientes <b>não possuem veículo</b>."
   ]
  },
  {
   "cell_type": "markdown",
   "metadata": {
    "id": "2AckRPdfZ6Dt"
   },
   "source": [
    "- Distribuição da variável **`posse_de_imovel`**"
   ]
  },
  {
   "cell_type": "code",
   "execution_count": null,
   "metadata": {
    "colab": {
     "base_uri": "https://localhost:8080/",
     "height": 607
    },
    "executionInfo": {
     "elapsed": 819,
     "status": "ok",
     "timestamp": 1738136302104,
     "user": {
      "displayName": "Isabelle Silva",
      "userId": "10813796348006610117"
     },
     "user_tz": 180
    },
    "id": "FdvOluq7ZJj2",
    "outputId": "cb3ed603-198c-4d39-aa51-14fee4a30377"
   },
   "outputs": [],
   "source": [
    "distribuicao_categorica('posse_de_imovel')"
   ]
  },
  {
   "cell_type": "markdown",
   "metadata": {
    "id": "Qdk8lGonbN5k"
   },
   "source": [
    "Após a analise da variável **`posse_de_imovel`** identificamos uma concentração maior de clientes que <b>possuem imóveis</b>."
   ]
  },
  {
   "cell_type": "markdown",
   "metadata": {
    "id": "XprxlXF158iL"
   },
   "source": [
    "###  Atributos **numéricos**\n",
    "\n",
    "Nesta etapa, concentraremos nossa atenção na análise das variáveis numéricas, buscando entender suas características e comportamentos dentro do conjunto de dados."
   ]
  },
  {
   "cell_type": "code",
   "execution_count": null,
   "metadata": {
    "colab": {
     "base_uri": "https://localhost:8080/",
     "height": 238
    },
    "executionInfo": {
     "elapsed": 18,
     "status": "ok",
     "timestamp": 1738136302105,
     "user": {
      "displayName": "Isabelle Silva",
      "userId": "10813796348006610117"
     },
     "user_tz": 180
    },
    "id": "I_4cskIH5y7j",
    "outputId": "7894f0cc-b805-454b-80dd-8b639867baa4"
   },
   "outputs": [],
   "source": [
    "# Realizando a Análise estatística dos dados numéricos\n",
    "\n",
    "df.describe().T"
   ]
  },
  {
   "cell_type": "markdown",
   "metadata": {
    "id": "m5BeWtpuBPs0"
   },
   "source": [
    "-  **id_cliente**: O id_cliente possui uma variabilidade normal para uma variável de identificação, com IDs variando de 1 a 16.649. Como é uma variável que não possui relevancia para a análise, iremos exclui-lá posteriormente.\n",
    "\n",
    "- **qtd_filhos**: A quantidade de filhos varia de de 0 a 14, com grande concentração de clientes sem filhos (mediana de 0). Existem poucos casos com até 14 filhos, mas são exceções.\n",
    "\n",
    "- **idade**: A idade possui uma média de 43.88 anos, com uma variação de 22 a 68 anos. A maioria dos clientes está na faixa adulta, e a distribuição é relativamente simétrica.\n",
    "\n",
    "- **tempo_emprego**: A variável tempo de emprego possui dados ausentes, como já vimos anteriormente. A média é de 7.72 anos, mas a variável tem alta dispersão (de 0.12 a 42.91 anos), o que pode sugerir tanto recém-contratados quanto clientes com longa experiência na empresa.\n",
    "\n",
    "- **qt_pessoas_residencia**: A quantidade de pessoas por residencia possui uma média de 2.20 pessoas por residência, com mediana de 2. A maior parte dos clientes vive com 2-3 pessoas, mas existem alguns casos extremos de pessoas que vivem com até 15 pessoas.\n",
    "\n",
    "- **renda**: A renda possui uma média de 5.697,29, mas com grande variação (desvio padrão de 8.266,82), indicando a presença de outliers. A renda varia de 118.71 a 245.141,67, o que pode distorcer análises se não tratado.\n",
    "\n",
    "---"
   ]
  },
  {
   "cell_type": "markdown",
   "metadata": {
    "id": "mOxQeUWjbbsj"
   },
   "source": [
    "- Distribuição da variável **`qtd_filhos`**"
   ]
  },
  {
   "cell_type": "code",
   "execution_count": null,
   "metadata": {
    "colab": {
     "base_uri": "https://localhost:8080/",
     "height": 601
    },
    "executionInfo": {
     "elapsed": 16,
     "status": "ok",
     "timestamp": 1738136302105,
     "user": {
      "displayName": "Isabelle Silva",
      "userId": "10813796348006610117"
     },
     "user_tz": 180
    },
    "id": "X6zJsCXnYttv",
    "outputId": "09680ece-9516-4f74-9c29-73b0e0de6755"
   },
   "outputs": [],
   "source": [
    "distribuicao_numerica('qtd_filhos')"
   ]
  },
  {
   "cell_type": "markdown",
   "metadata": {
    "id": "Eqbmh3r7bW4s"
   },
   "source": [
    "A análise da variável <b><code>qtd_filhos</b></code>, observamos que <b>a maioria dos clientes não possui filhos</b>. Além disso, identificamos uma parcela menor de clientes com 1 ou 2 filhos, enquanto quantidades superiores são ainda menos frequentes.\n",
    "\n",
    "----"
   ]
  },
  {
   "cell_type": "markdown",
   "metadata": {
    "id": "TZMhwo0bbu8E"
   },
   "source": [
    "- Distribuição da variável `idade`"
   ]
  },
  {
   "cell_type": "code",
   "execution_count": null,
   "metadata": {
    "colab": {
     "base_uri": "https://localhost:8080/",
     "height": 601
    },
    "executionInfo": {
     "elapsed": 425,
     "status": "ok",
     "timestamp": 1738136302515,
     "user": {
      "displayName": "Isabelle Silva",
      "userId": "10813796348006610117"
     },
     "user_tz": 180
    },
    "id": "yNN2va1eYtwV",
    "outputId": "ea5b70f9-62ae-405d-9658-a7a5fcf7cc31"
   },
   "outputs": [],
   "source": [
    "distribuicao_numerica('idade')"
   ]
  },
  {
   "cell_type": "markdown",
   "metadata": {
    "id": "cd4giHiebqVj"
   },
   "source": [
    "A análise da variável **`idade`**, mostrou  que a maior parte dos clientes na base de dados se encontra na faixa etária entre 25 e 60 anos, com alguns picos de frequência em torno dos 30, 40 e 60 anos. Observamos uma leve assimetria à direita, sugerindo uma presença reduzida de clientes com idade superior a 60 anos.\n",
    "\n",
    "---"
   ]
  },
  {
   "cell_type": "markdown",
   "metadata": {
    "id": "eFRbqi-NcjnS"
   },
   "source": [
    "- Distribuição da variável `tempo_emprego`"
   ]
  },
  {
   "cell_type": "code",
   "execution_count": null,
   "metadata": {
    "colab": {
     "base_uri": "https://localhost:8080/",
     "height": 601
    },
    "executionInfo": {
     "elapsed": 1003,
     "status": "ok",
     "timestamp": 1738136303509,
     "user": {
      "displayName": "Isabelle Silva",
      "userId": "10813796348006610117"
     },
     "user_tz": 180
    },
    "id": "4P_fQraaYtyP",
    "outputId": "abf2696d-66a2-4a42-9eb0-a753592331af"
   },
   "outputs": [],
   "source": [
    "distribuicao_numerica('tempo_emprego')"
   ]
  },
  {
   "cell_type": "markdown",
   "metadata": {
    "id": "1u83VT5zcXG6"
   },
   "source": [
    "<p align=\"justify\"> Após a análise da variável <b><code>tempo_emprego</b></code>, identificamos que a maioria dos clientes possui um tempo de emprego inferior a 10 anos. Essa distribuição sugere uma predominância de profissionais em estágios iniciais ou intermediários de carreira, podendo incluir indivíduos que recentemente ingressaram no mercado de trabalho ou que possuem maior rotatividade profissional. Entretando possui uma parcela menos significativa de clientes que trabalham entre 20 e 40 anos, o que pode ser explicado por temos um grande números de clientes com 40 e 60 anos de idade. Esse comportamento pode ser útil para entender a relação entre estabilidade no emprego e renda.</p>\n",
    "\n",
    "---"
   ]
  },
  {
   "cell_type": "markdown",
   "metadata": {
    "id": "hPRQoo0tcnYL"
   },
   "source": [
    "- Distribuição da variável **`qt_pessoas_residencia`**"
   ]
  },
  {
   "cell_type": "code",
   "execution_count": null,
   "metadata": {
    "colab": {
     "base_uri": "https://localhost:8080/",
     "height": 601
    },
    "executionInfo": {
     "elapsed": 15,
     "status": "ok",
     "timestamp": 1738136303510,
     "user": {
      "displayName": "Isabelle Silva",
      "userId": "10813796348006610117"
     },
     "user_tz": 180
    },
    "id": "KslhgiUuYt3t",
    "outputId": "8ebb4404-4b99-46d1-b1ec-d9d6761b2a4e"
   },
   "outputs": [],
   "source": [
    "distribuicao_numerica('qt_pessoas_residencia')"
   ]
  },
  {
   "cell_type": "markdown",
   "metadata": {
    "id": "GltAhN3BcxZi"
   },
   "source": [
    "<p align=\"justify\">Após analisar a variável <b><code>qt_pessoas_residencia</code></b>, observamos que a maioria dos clientes reside em lares com 2 pessoas, o que sugere que muitos vivem com um cônjuge. Isso pode estar relacionado ao fato de que nossa base de dados contém uma proporção maior de clientes casados. Além disso, identificamos uma parcela menor de clientes que moram sozinhos (1 pessoa) ou em residências com 3 ou 4 pessoas, sendo que domicílios com um número ainda maior de moradores são menos frequentes.</p>\n",
    "\n",
    "---\n"
   ]
  },
  {
   "cell_type": "markdown",
   "metadata": {
    "id": "qkYuROimdJmJ"
   },
   "source": [
    "- Distribuição da variável **`renda`**"
   ]
  },
  {
   "cell_type": "code",
   "execution_count": null,
   "metadata": {
    "colab": {
     "base_uri": "https://localhost:8080/",
     "height": 601
    },
    "executionInfo": {
     "elapsed": 937,
     "status": "ok",
     "timestamp": 1738136304433,
     "user": {
      "displayName": "Isabelle Silva",
      "userId": "10813796348006610117"
     },
     "user_tz": 180
    },
    "id": "hk5RnbfoYt6I",
    "outputId": "03bba138-994a-4ee9-9707-a35a99e09103"
   },
   "outputs": [],
   "source": [
    "distribuicao_numerica('renda')"
   ]
  },
  {
   "cell_type": "markdown",
   "metadata": {
    "id": "svFieGf8BPs4"
   },
   "source": [
    "<p align=\"justify\"> A análise da variável <b><code>renda</b></code> nos mostrou que a distribuição da variável renda apresenta uma assimetria acentuada à direita, o que indica que a maioria dos clientes possui uma renda concentrada em valores mais baixos, enquanto uma parcela menor apresenta rendas significativamente mais elevadas. Essa disparidade pode sugerir a presença de outliers, que podem distorcer medidas estatísticas como a média.\n",
    "\n",
    "---"
   ]
  },
  {
   "cell_type": "markdown",
   "metadata": {
    "id": "IZuWvXdcjtG3"
   },
   "source": [
    "## Análise Bivariada <a name=analise_bivariada></a>\n",
    "\n",
    "<p align=\"justify\">Nesta etapa do projeto, conduziremos uma análise detalhada sobre a relação entre diferentes variáveis e a variável <b>renda</b>. Nosso objetivo é identificar padrões, tendências e possíveis fatores determinantes que influenciam o valor da renda de cada indivíduo, contribuindo para uma compreensão mais profunda do comportamento desses dados. Para isso criaremos duas funções, uma delas utilizando <b>sns.barplot()</b> para facilitar a plotagem dos gráficos das variáveis categóricas e a outra utilizando <b>sns.pointplot()</b> para as variáveis booleanas.</p>\n",
    "\n",
    "     \n",
    "[Voltar ao índice](#Contents)\n",
    "\n"
   ]
  },
  {
   "cell_type": "markdown",
   "metadata": {
    "id": "MMe0zEf8hADJ"
   },
   "source": [
    "- Criando uma função para plotagem da análise bivariada das <b>variáveis categóricas</b>"
   ]
  },
  {
   "cell_type": "code",
   "execution_count": null,
   "metadata": {
    "id": "HKAI903bXHQ5"
   },
   "outputs": [],
   "source": [
    "# Define um tema global para os gráficos\n",
    "sns.set_theme(style='darkgrid')\n",
    "\n",
    "# Cria uma função para plotar o gráfico de barras\n",
    "def plot_renda_por_categoria(df, coluna):\n",
    "    \"\"\"Gera um gráfico de barras da soma da renda por uma variável categórica.\"\"\"\n",
    "\n",
    "    plt.figure(figsize=(10, 6))\n",
    "\n",
    "    # Agrupa e ordena os dados\n",
    "    agrupado = df.groupby(coluna)['renda'].mean().sort_values()\n",
    "\n",
    "    # Cria um gráfico de barras\n",
    "    ax = sns.barplot(x=agrupado.index, y=agrupado, hue=agrupado.index, palette='crest', legend=False)\n",
    "\n",
    "    # Melhora a rotação dos rótulos do eixo X\n",
    "    plt.xticks(rotation=30, ha='right')\n",
    "\n",
    "    # Define título e rótulos\n",
    "    ax.set_title(f'Renda Total em função de {coluna}', fontsize=14)\n",
    "    ax.set_xlabel(coluna, fontsize=12)\n",
    "    ax.set_ylabel('Renda Média (R$)', fontsize=12)\n",
    "\n",
    "    # Exibe gráfico\n",
    "    plt.show()\n",
    "\n",
    "\n"
   ]
  },
  {
   "cell_type": "markdown",
   "metadata": {
    "id": "lQufuOpEBPs5"
   },
   "source": [
    "- Criando uma função para plotagem da análise bivariada das <b>variáveis booleanas</b>"
   ]
  },
  {
   "cell_type": "code",
   "execution_count": null,
   "metadata": {
    "id": "gWxK4LIhdop6"
   },
   "outputs": [],
   "source": [
    "sns.set_theme(style='darkgrid')\n",
    "\n",
    "def plot_media_por_categoria(column):\n",
    "    \"\"\"\n",
    "    Gera um gráfico de pontos (pointplot) mostrando a média de 'valor' por 'categoria',\n",
    "    com intervalo de confiança de 95%.\n",
    "\n",
    "    Parâmetros:\n",
    "    - df: DataFrame com os dados\n",
    "    - categoria: Nome da variável categórica (string)\n",
    "    - valor: Nome da variável numérica a ser analisada (padrão: 'renda')\n",
    "    \"\"\"\n",
    "\n",
    "\n",
    "    # Criar a figura\n",
    "    plt.figure(figsize=(8, 5))\n",
    "\n",
    "    # Criar o gráfico de pointplot\n",
    "    sns.pointplot(\n",
    "        x=column,\n",
    "        y='renda',\n",
    "        data=df,\n",
    "        dodge=True,\n",
    "        errorbar=('ci', 95)\n",
    "    )\n",
    "\n",
    "    plt.title(f'Renda Média em Função de {column}')\n",
    "    plt.ylabel('Renda Média (R$)')\n",
    "    # Exibir o gráfico\n",
    "    plt.show()\n"
   ]
  },
  {
   "cell_type": "markdown",
   "metadata": {
    "id": "sqs5JJlCapKX"
   },
   "source": [
    "- renda x tipo_renda"
   ]
  },
  {
   "cell_type": "code",
   "execution_count": null,
   "metadata": {
    "colab": {
     "base_uri": "https://localhost:8080/",
     "height": 635
    },
    "executionInfo": {
     "elapsed": 14,
     "status": "ok",
     "timestamp": 1738136304433,
     "user": {
      "displayName": "Isabelle Silva",
      "userId": "10813796348006610117"
     },
     "user_tz": 180
    },
    "id": "3dlA9sjuauQv",
    "outputId": "8ada6cde-9628-4ffe-9142-f16ef368d885"
   },
   "outputs": [],
   "source": [
    "plot_renda_por_categoria(df, 'tipo_renda')"
   ]
  },
  {
   "cell_type": "markdown",
   "metadata": {
    "id": "OwB7TEU8pdR4"
   },
   "source": [
    "<p align=\"justify\">Ao analisar a distribuição da renda de acordo com o <b><code>tipo_renda</code></b>, podemos notar que os <b>indivíduos com a maior distribuição de renda são os servidores públicos</b>, que representam uma minoria em nosso banco de dados. Isso implica que servidores públicos possuem uma renda elevada. Por outro lado, os indivíduos assalariados, que são a maioria em nosso banco de dados, têm a segunda maior distribuição de renda. Já os demais tipo de renda apresentam mostram distribuições de renda relativamente homogêneas entre si, sem variações significativas.</p>\n",
    "\n",
    "----"
   ]
  },
  {
   "cell_type": "markdown",
   "metadata": {
    "id": "SrftzrK7a8zY"
   },
   "source": [
    "- renda x educação"
   ]
  },
  {
   "cell_type": "code",
   "execution_count": null,
   "metadata": {
    "colab": {
     "base_uri": "https://localhost:8080/",
     "height": 649
    },
    "executionInfo": {
     "elapsed": 514,
     "status": "ok",
     "timestamp": 1738136304935,
     "user": {
      "displayName": "Isabelle Silva",
      "userId": "10813796348006610117"
     },
     "user_tz": 180
    },
    "id": "GE7qs-x1a89g",
    "outputId": "883911af-3b91-4864-c949-14783b9aa8c5"
   },
   "outputs": [],
   "source": [
    "plot_renda_por_categoria(df,'educacao')"
   ]
  },
  {
   "cell_type": "markdown",
   "metadata": {
    "id": "9LBmbhyVMNvu"
   },
   "source": [
    "<p align=\"justify\"> Ao analisar a distribuição da variável renda de acordo com a <b><code>educação</code></b>, nota-se que, embora representem a segunda maior frequência em nossos bancos de dados, os clientes com maior renda são aqueles que possuem <b>Ensino Superior Completo</b>. Isso nos permite inferir que pessoas com ensino superior completo tendem a ter uma renda maior. Por outro lado, os clientes com maior frequência em nosso banco de dados, <b>aqueles que possuem Ensino Secundário</b>, representam a segunda maior distribuição de renda. Essa semelhança na distribuição de renda pode ser explicada pelo grande número de pessoas com ensino secundário, em contraste com a renda mais elevada daqueles com ensino superior.  Já os demais níveis educacionais apresentam mostram distribuições de renda relativamente homogêneas entre si, sem variações significativas.</p>\n",
    "\n",
    "---"
   ]
  },
  {
   "cell_type": "markdown",
   "metadata": {
    "id": "L3-sWRkNbt9X"
   },
   "source": [
    "- renda x 'estado_civil'"
   ]
  },
  {
   "cell_type": "code",
   "execution_count": null,
   "metadata": {
    "colab": {
     "base_uri": "https://localhost:8080/",
     "height": 608
    },
    "executionInfo": {
     "elapsed": 820,
     "status": "ok",
     "timestamp": 1738136305748,
     "user": {
      "displayName": "Isabelle Silva",
      "userId": "10813796348006610117"
     },
     "user_tz": 180
    },
    "id": "9pfj3MWYbuFD",
    "outputId": "29d9ac05-45c4-422b-b349-6e0f11d6eb36"
   },
   "outputs": [],
   "source": [
    "plot_renda_por_categoria(df, 'estado_civil')"
   ]
  },
  {
   "cell_type": "markdown",
   "metadata": {
    "id": "o9GCkE91MNvv"
   },
   "source": [
    "<p align=\"justify\"> Ao analisar a distribuição da renda de acordo com o <b><code>estado_civil</code></b>, observamos que pessoas <b>casadas</b> possuem a maior renda média, possivelmente devido à maior estabilidade profissional e financeira. Por outro lado, <b>solteiros, separados e aqueles em união estável</b> apresentam rendas intermediárias, sugerindo que o estado civil pode influenciar a renda, mas não de forma isolada. Já os <b>viúvos</b> possuem a menor renda média, o que pode estar relacionado à aposentadoria ou à perda de um cônjuge que era o principal provedor. Dessa forma, o estado civil pode refletir, indiretamente, fatores como <b>experiência profissional, estabilidade financeira e participação no mercado de trabalho</b>. Enquanto casados tendem a ter melhores rendimentos, viúvos enfrentam maiores desafios financeiros.</p>\n",
    "\n",
    "---\n",
    "\n"
   ]
  },
  {
   "cell_type": "markdown",
   "metadata": {
    "id": "ezoIBjjVciL5"
   },
   "source": [
    "- renda x 'tipo_residencia'"
   ]
  },
  {
   "cell_type": "code",
   "execution_count": null,
   "metadata": {
    "colab": {
     "base_uri": "https://localhost:8080/",
     "height": 631
    },
    "executionInfo": {
     "elapsed": 19,
     "status": "ok",
     "timestamp": 1738136305748,
     "user": {
      "displayName": "Isabelle Silva",
      "userId": "10813796348006610117"
     },
     "user_tz": 180
    },
    "id": "Gw3lpYt7ciUn",
    "outputId": "2e9468c6-8626-4ad8-f68e-bca606716880"
   },
   "outputs": [],
   "source": [
    "plot_renda_por_categoria(df,'tipo_residencia')"
   ]
  },
  {
   "cell_type": "markdown",
   "metadata": {
    "id": "iJsipHCiMNvy"
   },
   "source": [
    "<p align=\"justify\">A análise da renda em relação ao <b><code>tipo de residência</code></b> revela que, apesar de representarem uma parcela pequena do banco de dados, pessoas que vivem em <b>estúdios</b> apresentam uma distribuição de renda significativamente mais elevada em comparação aos demais tipos de residência, que mantêm uma distribuição semelhante entre si. Esse padrão sugere que a variável <code>tipo_residência</code> pode ser um fator relevante para auxiliar no modelo preditivo.</p>\n",
    "\n",
    "---"
   ]
  },
  {
   "cell_type": "markdown",
   "metadata": {
    "id": "U3VPRwFPd-4n"
   },
   "source": [
    "- renda x 'qtd_filhos'"
   ]
  },
  {
   "cell_type": "code",
   "execution_count": null,
   "metadata": {
    "colab": {
     "base_uri": "https://localhost:8080/",
     "height": 581
    },
    "executionInfo": {
     "elapsed": 823,
     "status": "ok",
     "timestamp": 1738136306556,
     "user": {
      "displayName": "Isabelle Silva",
      "userId": "10813796348006610117"
     },
     "user_tz": 180
    },
    "id": "97GVEenKd_AP",
    "outputId": "d4c2c171-6cbc-4fec-a8d9-ee296e2ae14e"
   },
   "outputs": [],
   "source": [
    "plot_renda_por_categoria(df,'qtd_filhos')"
   ]
  },
  {
   "cell_type": "markdown",
   "metadata": {
    "id": "FqhXyKXzMNvz"
   },
   "source": [
    "<p align=\"justify\">A análise da renda em relação ao <b><code>quantidade de filhos</code></b> revelou que, a renda média varia conforme o número de filhos. Observa-se que pessoas com 2 a 4 filhos apresentam uma renda média maior do que aquelas com 0 ou 1 filho, o que pode indicar que residências com poucas pessoas possuem indivíduos com maior poder aquisitivo, que moram sozinhos ou em famílias menores. Entretando arenda média reduz significativamente para quem tem 5 ou mais filhos, sendo a menor registrada para indivíduos com 7 filhos. Desta forma podemos inferir que o aumento excessivo de filhos pode impactar a renda disponível devido a maiores despesas, reduzindo a capacidade de trabalho ou investimentos na carreira. A relação entre número de pessoas na residência e renda não é linear, sendo importante testar a categorização desta variável</p>"
   ]
  },
  {
   "cell_type": "markdown",
   "metadata": {
    "id": "JqxjkhPwd_tz"
   },
   "source": [
    "- renda x 'qt_pessoas_residencia'"
   ]
  },
  {
   "cell_type": "code",
   "execution_count": null,
   "metadata": {
    "colab": {
     "base_uri": "https://localhost:8080/",
     "height": 589
    },
    "executionInfo": {
     "elapsed": 24,
     "status": "ok",
     "timestamp": 1738136306557,
     "user": {
      "displayName": "Isabelle Silva",
      "userId": "10813796348006610117"
     },
     "user_tz": 180
    },
    "id": "gXP-6DWSd_14",
    "outputId": "cb828636-3c97-4098-dab5-e3fec102d595"
   },
   "outputs": [],
   "source": [
    "plot_renda_por_categoria(df,'qt_pessoas_residencia')"
   ]
  },
  {
   "cell_type": "markdown",
   "metadata": {
    "id": "slaBjUocBPs9"
   },
   "source": [
    "<p align=\"justify\"> A análise da renda média por <b>quantidade de pessoas na residência</b> noa mostrou que a renda média parece aumentar até um certo número de pessoas (cerca de 4 a 7), mas cai drasticamente para famílias muito grandes. Residências com poucas pessoas podem indicar indivíduos com maior poder aquisitivo, que moram sozinhos ou em famílias menores. Enquanto residências que possuem entre 4 e 7 pessoas, pode haver um equilíbrio entre renda e estrutura familiar, sugerindo lares onde há múltiplos contribuintes financeiros. Já residências com 9 ou mais pessoas tendem a ter renda média menor, possivelmente indicando famílias de baixa renda, onde há mais dependentes do que provedores.</p>\n",
    "\n",
    "---\n"
   ]
  },
  {
   "cell_type": "markdown",
   "metadata": {
    "id": "ZPRoRft4BPs9"
   },
   "source": [
    "- renda x 'posse_de_veiculo'"
   ]
  },
  {
   "cell_type": "code",
   "execution_count": null,
   "metadata": {
    "colab": {
     "base_uri": "https://localhost:8080/",
     "height": 496
    },
    "executionInfo": {
     "elapsed": 431,
     "status": "ok",
     "timestamp": 1738136306970,
     "user": {
      "displayName": "Isabelle Silva",
      "userId": "10813796348006610117"
     },
     "user_tz": 180
    },
    "id": "LMpLZINGgBhM",
    "outputId": "a9ee15a5-3c83-4ecf-b490-e1c9238e0a27"
   },
   "outputs": [],
   "source": [
    "plot_media_por_categoria('posse_de_veiculo')"
   ]
  },
  {
   "cell_type": "markdown",
   "metadata": {
    "id": "4kZn_I4MMNv0"
   },
   "source": [
    "Após analisar a relação entre a renda média e a variável **<code>posse_de_veiculo</code>**, observamos que pessoas sem veículo apresentam, em média, uma renda inferior às que possuem. A diferença é significativa, indicando uma tendência clara de maior renda entre aqueles que têm um veículo. Como a maioria dos indivíduos em nosso dataset não possui veículo, esse padrão torna-se ainda mais relevante. Assim, podemos inferir que <b><code>posse_de_veiculo</code></b> pode ser um fator importante para um modelo preditivo de renda.  \n",
    "\n",
    "---\n"
   ]
  },
  {
   "cell_type": "markdown",
   "metadata": {
    "id": "ZQd_s63WBPs-"
   },
   "source": [
    "- renda x 'posse_de_imovel'"
   ]
  },
  {
   "cell_type": "code",
   "execution_count": null,
   "metadata": {
    "colab": {
     "base_uri": "https://localhost:8080/",
     "height": 496
    },
    "executionInfo": {
     "elapsed": 806,
     "status": "ok",
     "timestamp": 1738136307770,
     "user": {
      "displayName": "Isabelle Silva",
      "userId": "10813796348006610117"
     },
     "user_tz": 180
    },
    "id": "jRZeRv8XgBnv",
    "outputId": "e786da45-3872-4e49-aa2f-f20e53a6adb6"
   },
   "outputs": [],
   "source": [
    "plot_media_por_categoria('posse_de_imovel')"
   ]
  },
  {
   "cell_type": "markdown",
   "metadata": {
    "id": "gKh9Fun5MNv1"
   },
   "source": [
    "<p align =\"justify\">Após analisar a relação entre a renda média e a variável <b><code>posse_de_imovel</code></b>, observamos que pessoas que <b>não possuem imóvel</b>(False) têm, em média, uma renda ligeiramente inferior àquelas que possuem (True). No entanto, essa diferença é bem menos expressiva do que no caso da posse de veículo. Além disso, os intervalos de confiança (barras verticais) são mais amplos, indicando uma maior variabilidade nos dados, embora a tendência geral se mantenha. Vale destacar que a maioria dos clientes em nosso dataset possui imóvel, o que pode influenciar essa distribuição.</p>\n",
    "\n",
    "---"
   ]
  },
  {
   "cell_type": "markdown",
   "metadata": {
    "id": "gPZe_-zpBPs-"
   },
   "source": [
    "- renda x 'sexo'"
   ]
  },
  {
   "cell_type": "code",
   "execution_count": null,
   "metadata": {
    "colab": {
     "base_uri": "https://localhost:8080/",
     "height": 496
    },
    "executionInfo": {
     "elapsed": 789,
     "status": "ok",
     "timestamp": 1738136308553,
     "user": {
      "displayName": "Isabelle Silva",
      "userId": "10813796348006610117"
     },
     "user_tz": 180
    },
    "id": "LUC4ZJbxgBr1",
    "outputId": "0f4388cb-d14a-4488-a37a-5d3af2378fab"
   },
   "outputs": [],
   "source": [
    "plot_media_por_categoria('sexo')"
   ]
  },
  {
   "cell_type": "markdown",
   "metadata": {
    "id": "Y9hJlKEoMNv2"
   },
   "source": [
    "<p align='justify'>Após analisar a relação entre a renda média e a variável <b></b><code>sexo</code></b>, observamos que pessoas do gênero <b></b>masculino</b> (M) possuem uma renda média significativamente maior do que as do gênero  <b>feminino </b>(F), chegando a ser quase o dobro. Essa discrepância sugere que o sexo pode desempenhar um papel relevante na predição da renda. Além disso, como a maioria dos clientes em nosso dataset é do sexo feminino, essa diferença pode impactar a distribuição geral dos dados e a interpretação dos resultados.  \n",
    "\n",
    "---"
   ]
  },
  {
   "cell_type": "markdown",
   "metadata": {
    "id": "dPemsdsqBPs_"
   },
   "source": [
    "- Análise do Valor da renda em relação ao tempo de emprego"
   ]
  },
  {
   "cell_type": "code",
   "execution_count": null,
   "metadata": {
    "id": "yfvkxAQsV9VK"
   },
   "outputs": [],
   "source": [
    "# Definir tema\n",
    "sns.set_theme(style='darkgrid')\n",
    "\n",
    "# Criar figura\n",
    "plt.figure(figsize=(12, 6))\n",
    "\n",
    "# Criar gráfico de linha para análise temporal\n",
    "ax = sns.lineplot(\n",
    "    data=df,\n",
    "    x='tempo_emprego',   # Variável temporal (ex: ano, mês, dia)\n",
    "    y='renda',  # Variável a ser analisada\n",
    "    marker='o',  # Adiciona marcadores nos pontos\n",
    "    color='b',   # Cor azul\n",
    "    linestyle='-'\n",
    ")\n",
    "\n",
    "# Ajustar os rótulos do eixo X\n",
    "plt.xticks(rotation=45, ha='right')\n",
    "\n",
    "# Títulos e rótulos\n",
    "plt.title('Valor da renda em relação ao tempo de emprego', fontsize=14)\n",
    "plt.xlabel('tempo_emprego', fontsize=12)\n",
    "plt.ylabel('Renda Média (R$)', fontsize=12)\n",
    "\n",
    "# Ajustar layout para evitar cortes nos rótulos\n",
    "plt.tight_layout()\n",
    "\n",
    "# Exibir gráfico\n",
    "plt.show()\n"
   ]
  },
  {
   "cell_type": "markdown",
   "metadata": {
    "id": "qhAKBNmgBPs_",
    "jp-MarkdownHeadingCollapsed": true
   },
   "source": [
    "<p align=\"justify\">Após analisar a renda média em função da variável <b><code>tempo_emprego</code></b>, observamos que, com o aumento do tempo de emprego, há uma maior variação na distribuição de renda média por cliente. Para aqueles empregados por até 10 anos, a distribuição de renda permanece relativamente estável, sem grandes alterações. No entanto, a partir de 20 anos de emprego, a distribuição de renda média começa a apresentar mudanças mais expressivas, o que sugere que, com o tempo, os funcionários têm mais oportunidades de crescimento dentro da empresa, resultando em um aumento salarial mais expressivo.</p>\n",
    "\n",
    "---\n"
   ]
  },
  {
   "cell_type": "markdown",
   "metadata": {
    "id": "vjsgm0j1BPtA"
   },
   "source": [
    "## Insights Preliminares\n",
    "\n",
    "Após analisar a relação entre a renda e as demais variáveis do nosso DataFrame, podemos inferir que <b>algumas variáveis apresentaram grande potencial preditivo para o nosso modelo</b>. Entre elas, destacam-se `tipo_renda`, `educacao`, `posse_de_veiculo`, `sexo` e `tempo_emprego`. Ao examiná-las em relação à renda, nossa variável alvo, observamos uma variação significativa na distribuição de renda média dentro de suas categorias. Isso sugere que essas variáveis podem ser boas preditoras da renda. Entretanto, essa relação será analisada de maneira mais detalhada e quantitativa durante a fase de modelagem, onde avaliaremos o impacto dessas variáveis no desempenho do modelo preditivo.\n",
    "\n",
    "---"
   ]
  },
  {
   "cell_type": "markdown",
   "metadata": {
    "id": "nWe7ZzN6jtJX"
   },
   "source": [
    "# Pré- Processamento dos Dados  <a name=pre_processamento_dados></a>\n",
    "\n",
    "<p align=\"justify\">Nesta etapa do projeto, iremos realizar o pré-processamento completo dos dados, abrangendo as etapas de limpeza e tratamento, como a remoção de valores ausentes ou inconsistentes e a padronização das variáveis. Em seguida, procederemos com a conversão das variáveis categóricas em variáveis dummies, facilitando a utilização no modelo. Também faremos a separação dos dados em variáveis explicativas e variável alvo, garantindo a estrutura necessária para análise. Por fim, os dados serão divididos em conjuntos de treino e teste, assegurando que o modelo seja avaliado de forma robusta e sem viés.</p>\n",
    "     \n",
    "[Voltar ao índice](#Contents)"
   ]
  },
  {
   "cell_type": "markdown",
   "metadata": {
    "id": "hf5xOEL_rrR4"
   },
   "source": [
    "## Limpeza e Tratamento de Dados <a name=limpeza></a>\n",
    "\n",
    "<p align= \"justify\">\n",
    "\n",
    "A preparação dos dados para análise é fundamental para garantir a qualidade e a confiabilidade dos resultados. Nesta etapa, realizaremos as seguintes atividades:</p>\n",
    "\n",
    "- **Limpeza de Dados**:\n",
    "  \n",
    "  - Verificar e tratar os valores ausentes\n",
    "  - Verificar e tratar os dados duplicados\n",
    "  - Verificar e tratar os Outliers\n",
    "\n",
    "- **Transformação de Dados**:\n",
    "\n",
    "  - Transformar a variável **data_ref**\n",
    "  - Excluir a variável **id_cliente**\n",
    "  - Codificação de variáveis categóricas usando .get_dummies()\n",
    "  - Normalização/escala\n"
   ]
  },
  {
   "cell_type": "markdown",
   "metadata": {
    "id": "839kUP5Nr4FY"
   },
   "source": [
    "### Identificando Valores Ausentes (Nan)<a name=nan></a>\n",
    "\n",
    "<div style=\"text-align: right\"\n",
    "     \n",
    "[Voltar ao índice](#Contents)"
   ]
  },
  {
   "cell_type": "code",
   "execution_count": null,
   "metadata": {
    "id": "rlqOZNclr4lY"
   },
   "outputs": [],
   "source": [
    "# CALCULANDO OS VALORES AUSENTES NO DATAFRAME\n",
    "\n",
    "df.isnull().sum()"
   ]
  },
  {
   "cell_type": "markdown",
   "metadata": {
    "id": "uKDRwW4aBPtB"
   },
   "source": [
    "Como observado anteriormente, a variável `tempo_emprego` contém 2.573 valores ausentes. Nesta etapa, vamos calcular a porcentagem desses valores em relação ao total do nosso dataframe, analisar o impacto da ausência desses dados na qualidade da análise e, com base nessa avaliação, decidir o método mais apropriado para o tratamento dessas lacunas."
   ]
  },
  {
   "cell_type": "markdown",
   "metadata": {
    "id": "N9reA9Vjr4th"
   },
   "source": [
    "- Verificando a porcentagem de Valores Ausentes sa coluna  **tempo_emprego**"
   ]
  },
  {
   "cell_type": "code",
   "execution_count": null,
   "metadata": {
    "id": "E1euwLeLr40C"
   },
   "outputs": [],
   "source": [
    "# Obtendo o total de linhas do DataFrame\n",
    "total = len(df)\n",
    "\n",
    "# Contando os valores nulos na coluna 'tempo_emprego  '\n",
    "tempo_emprego = df['tempo_emprego'].isnull().sum()\n",
    "\n",
    "# Calculando a porcentagem de valores nulos\n",
    "pct_nan = tempo_emprego / total\n",
    "\n",
    "# Exibindo os resultados\n",
    "print(f\"Total de linhas: {total}\")\n",
    "print(f\"Número de valores ausentes em 'tempo_emprego': {tempo_emprego}\")\n",
    "print(f\"Percentual de Missing Values: {pct_nan:.2%}\")"
   ]
  },
  {
   "cell_type": "markdown",
   "metadata": {
    "id": "OtWVYSrXUuIZ"
   },
   "source": [
    "### Tratando os valores ausentes da variável **tempo_emprego**\n",
    "\n",
    "Como apenas **17,15%** dos valores da variável `tempo_emprego` estão ausentes, é preferível preencher esses dados utilizando a **média** dos valores disponíveis. Essa abordagem ajuda a preservar o tamanho da amostra e minimizar possíveis distorções na análise, garantindo que a variável continue sendo considerada sem a perda de informações relevantes."
   ]
  },
  {
   "cell_type": "markdown",
   "metadata": {
    "id": "v0RAk1c1BPtB"
   },
   "source": [
    "- Preenchendo os valores ausentes com a média dos valores da variável <code>tempo_emprego</code>"
   ]
  },
  {
   "cell_type": "code",
   "execution_count": null,
   "metadata": {
    "id": "n5VEo-k7UsFd"
   },
   "outputs": [],
   "source": [
    "# Calculando a média da variável tempo_emprego\n",
    "\n",
    "media = df['tempo_emprego'].median()\n",
    "\n",
    "# Preenchendo os valores ausentes com a média\n",
    "\n",
    "df['tempo_emprego'] = df['tempo_emprego'].fillna(media)\n"
   ]
  },
  {
   "cell_type": "code",
   "execution_count": null,
   "metadata": {
    "id": "ozEHkhpWBPtC"
   },
   "outputs": [],
   "source": [
    "# Verificando se ainda existem valores ausentes\n",
    "\n",
    "df.isnull().sum()"
   ]
  },
  {
   "cell_type": "markdown",
   "metadata": {
    "id": "zD6C8apJBPtC"
   },
   "source": [
    "Após preenchermos os dados faltantes da variável <b>tempo_emprego</b>, nosso dataset não possui mais dados ausentes."
   ]
  },
  {
   "cell_type": "markdown",
   "metadata": {
    "id": "z-lRaUIcr48g"
   },
   "source": [
    "### Identificando Valores Duplicados<a name=duplicados></a>\n",
    "\n",
    "<div style=\"text-align: right\"\n",
    "     \n",
    "[Voltar ao índice](#Contents)"
   ]
  },
  {
   "cell_type": "code",
   "execution_count": null,
   "metadata": {
    "id": "2aPo0u2Wr5Bs"
   },
   "outputs": [],
   "source": [
    "# Identificando linhas duplicadas\n",
    "\n",
    "duplicados = df.duplicated().sum()\n",
    "print(f'O dataframe possui {duplicados} linhas duplicadas')"
   ]
  },
  {
   "cell_type": "code",
   "execution_count": null,
   "metadata": {
    "id": "Q47ZXYzssXo4"
   },
   "outputs": [],
   "source": [
    "# Exclindo linhas duplicadas\n",
    "\n",
    "df = df.drop_duplicates(keep='first')  # Mantém a primeira ocorrência"
   ]
  },
  {
   "cell_type": "code",
   "execution_count": null,
   "metadata": {
    "id": "D0WBhXtPsXrS"
   },
   "outputs": [],
   "source": [
    "# Verificando se ainda possuimos linhas duplicadas\n",
    "\n",
    "duplicados = df.duplicated().sum()\n",
    "print(f'O dataframe possui {duplicados} linhas duplicadas')"
   ]
  },
  {
   "cell_type": "code",
   "execution_count": null,
   "metadata": {
    "id": "yItAEh7PsXtm"
   },
   "outputs": [],
   "source": [
    "# Verificando o novo formato do dataframe\n",
    "\n",
    "df.shape"
   ]
  },
  {
   "cell_type": "markdown",
   "metadata": {},
   "source": [
    "Após a remoção das duplicatas nosso dataset passou a ter 14593 observações."
   ]
  },
  {
   "cell_type": "markdown",
   "metadata": {
    "id": "vS13bA1Usi_w"
   },
   "source": [
    "### Identificando e Tratando Outliers<a name=outlier></a>\n",
    "\n",
    "<div style=\"text-align: right\"\n",
    "     \n",
    "[Voltar ao índice](#Contents)"
   ]
  },
  {
   "cell_type": "code",
   "execution_count": null,
   "metadata": {
    "colab": {
     "background_save": true
    },
    "id": "6C51ZTu_zECL"
   },
   "outputs": [],
   "source": [
    "for nome_coluna in df.columns:\n",
    "    fig = px.box(df, y=nome_coluna, title=f\"Boxplot de {nome_coluna}\")  # Criar boxplot com título\n",
    "    fig.show()  # Exibir o gráfico individualmente"
   ]
  },
  {
   "cell_type": "markdown",
   "metadata": {
    "id": "EiNmmHwetQMu"
   },
   "source": [
    "### Transformação da Variável **data_ref** <a name=\"transformacao\"></a>\n",
    "\n",
    "Conforme verificamos anteriormente, a variável data_ref estava no formato string. Para que possamos trabalhar de maneira mais eficiente com esta variável, é necessário transformá-la para o formato de data."
   ]
  },
  {
   "cell_type": "markdown",
   "metadata": {
    "id": "-5DJAX2QtbMm"
   },
   "source": [
    "- Verificando o tipo da variável **data_ref**"
   ]
  },
  {
   "cell_type": "code",
   "execution_count": null,
   "metadata": {
    "colab": {
     "background_save": true
    },
    "id": "uW-QLARmtQUu"
   },
   "outputs": [],
   "source": [
    "print(df['data_ref'].dtype)"
   ]
  },
  {
   "cell_type": "markdown",
   "metadata": {
    "id": "-CxYWOPHthP1"
   },
   "source": [
    "- Transformando o tipo da variável **data_ref**"
   ]
  },
  {
   "cell_type": "code",
   "execution_count": null,
   "metadata": {
    "colab": {
     "background_save": true
    },
    "id": "_w-NA7litYPT"
   },
   "outputs": [],
   "source": [
    "df['data_ref'] = pd.to_datetime(df['data_ref'])\n"
   ]
  },
  {
   "cell_type": "markdown",
   "metadata": {
    "id": "vyYo9Raxth9e"
   },
   "source": [
    "- Verificando a variável **data_ref** após a modificação"
   ]
  },
  {
   "cell_type": "code",
   "execution_count": null,
   "metadata": {
    "colab": {
     "background_save": true
    },
    "id": "t5tE9YZ3tYSq"
   },
   "outputs": [],
   "source": [
    "print(df['data_ref'].dtype)"
   ]
  },
  {
   "cell_type": "code",
   "execution_count": null,
   "metadata": {},
   "outputs": [],
   "source": [
    "df['data_ref'] = df['data_ref'].astype('int64')"
   ]
  },
  {
   "cell_type": "markdown",
   "metadata": {},
   "source": [
    "### Excluir a variável **id_cliente**"
   ]
  },
  {
   "cell_type": "code",
   "execution_count": null,
   "metadata": {},
   "outputs": [],
   "source": [
    "df = df.drop(columns='id_cliente', axis=1)\n",
    "df.head()"
   ]
  },
  {
   "cell_type": "code",
   "execution_count": null,
   "metadata": {},
   "outputs": [],
   "source": [
    "df.info()"
   ]
  },
  {
   "cell_type": "markdown",
   "metadata": {},
   "source": [
    "Após a remoção da variável <b>id_cliente</b>  passou a ter 14593 observações e 13 variáveis."
   ]
  },
  {
   "cell_type": "markdown",
   "metadata": {
    "id": "DKwueTSM64n6"
   },
   "source": [
    "### Codificação de variáveis categóricas usando `pd.get_dummies`"
   ]
  },
  {
   "cell_type": "code",
   "execution_count": null,
   "metadata": {
    "colab": {
     "background_save": true
    },
    "id": "eecTXtQK7s3I"
   },
   "outputs": [],
   "source": [
    "# Transformando o dataframe em dummies\n",
    "\n",
    "df_dummies = pd.get_dummies(df)\n"
   ]
  },
  {
   "cell_type": "code",
   "execution_count": null,
   "metadata": {
    "colab": {
     "background_save": true
    },
    "id": "hw1mNo367Boi"
   },
   "outputs": [],
   "source": [
    "# Visualizando as 5 primeiras linhas do dataframe transformado\n",
    "\n",
    "df_dummies.head()"
   ]
  },
  {
   "cell_type": "code",
   "execution_count": null,
   "metadata": {
    "colab": {
     "background_save": true
    },
    "id": "nfjbyRY3gXo1"
   },
   "outputs": [],
   "source": [
    "#Observando a forma do novo dataframe\n",
    "\n",
    "df_dummies.shape"
   ]
  },
  {
   "cell_type": "code",
   "execution_count": null,
   "metadata": {
    "colab": {
     "background_save": true
    },
    "id": "qhcVHXc78Qxf"
   },
   "outputs": [],
   "source": [
    "# Obtendo as informações do dataframe\n",
    "\n",
    "df_dummies.info()"
   ]
  },
  {
   "cell_type": "markdown",
   "metadata": {},
   "source": [
    "Após a transformação do DataFrame em variáveis dummies, os dados passaram a conter 32 variáveis e 14.593 observações, todas do tipo numérico. No entanto, será necessário padronizar os nomes das variáveis, uma vez que atualmente apresentam formatação inadequada, incluindo acentos, espaços em branco e letras maiúsculas. Essa padronização é essencial para garantir a consistência e facilitar o manuseio dos dados em análises futuras."
   ]
  },
  {
   "cell_type": "markdown",
   "metadata": {
    "id": "P6kaC_3Srk1t"
   },
   "source": [
    "### Transformando as insconsistencias das variaveis dummies"
   ]
  },
  {
   "cell_type": "code",
   "execution_count": null,
   "metadata": {
    "colab": {
     "background_save": true
    },
    "id": "a4U93nORrkSt"
   },
   "outputs": [],
   "source": [
    "new_columns = []\n",
    "\n",
    "for i in df_dummies.columns:\n",
    "    x = i.lower()\n",
    "    x = x.replace('á', 'a').replace('ã', 'a').replace('ú', 'u').replace('ó', 'o').replace('ç', 'c').replace(' ', '_')\n",
    "    new_columns.append(x)\n",
    "\n",
    "df_dummies.columns = new_columns\n",
    "\n",
    "\n",
    "df_dummies.columns = new_columns"
   ]
  },
  {
   "cell_type": "code",
   "execution_count": null,
   "metadata": {
    "colab": {
     "background_save": true
    },
    "id": "-iZcCTdSHS4s"
   },
   "outputs": [],
   "source": [
    "df_dummies.columns"
   ]
  },
  {
   "cell_type": "markdown",
   "metadata": {
    "id": "J-zf_nNE85VG"
   },
   "source": [
    "### Correlação"
   ]
  },
  {
   "cell_type": "code",
   "execution_count": null,
   "metadata": {
    "colab": {
     "background_save": true
    },
    "id": "jcSsquVY88uH"
   },
   "outputs": [],
   "source": [
    "correlacao = df_dummies.corr()\n",
    "correlacao"
   ]
  },
  {
   "cell_type": "code",
   "execution_count": null,
   "metadata": {},
   "outputs": [],
   "source": [
    "sns.heatmap(correlacao, cmap='coolwarm', annot=False, linewidths=0.5)"
   ]
  },
  {
   "cell_type": "markdown",
   "metadata": {},
   "source": [
    "Ao analisar a correlação entre as variáveis dummies e a variável `renda`, observamos que as demais variáveis do nosso conjunto de dados não apresentam uma relação forte com a `renda`. "
   ]
  },
  {
   "cell_type": "markdown",
   "metadata": {},
   "source": [
    "## Separação das Variáveis Explicativas e da Variável Alvo"
   ]
  },
  {
   "cell_type": "code",
   "execution_count": null,
   "metadata": {},
   "outputs": [],
   "source": [
    "y = df_dummies['renda']\n",
    "y"
   ]
  },
  {
   "cell_type": "code",
   "execution_count": null,
   "metadata": {},
   "outputs": [],
   "source": [
    "X = df_dummies.drop(columns= ['renda', 'data_ref'])\n",
    "X.head()"
   ]
  },
  {
   "cell_type": "markdown",
   "metadata": {},
   "source": [
    "## Separando em Treino e Teste"
   ]
  },
  {
   "cell_type": "code",
   "execution_count": null,
   "metadata": {},
   "outputs": [],
   "source": [
    "X_train, X_test, y_train, y_test = train_test_split(X, y, test_size=0.3, random_state=0)"
   ]
  },
  {
   "cell_type": "code",
   "execution_count": null,
   "metadata": {},
   "outputs": [],
   "source": [
    "print(f'A quantidade de linhas e colunas de X_train é: {X_train.shape}')\n",
    "print(f'A quantidade de linhas e colunas de X_test é: {X_test.shape}')\n",
    "\n",
    "print(f'A quantidade de linhas y_train (70%) é: {len(y_train)}')\n",
    "print(f'A quantidade de linhas de y_test (30%) é: {len(y_test)}')"
   ]
  },
  {
   "cell_type": "markdown",
   "metadata": {
    "id": "WOcv9rtslBM0"
   },
   "source": [
    "# 4. Modelagem   <a name=modelagem></a>\n",
    "\n",
    "Para a seleção do modelo de regressão, iremos testar as seguintes abordagens:\n",
    "\n",
    "1. **Regressão Ridge**: Aplicaremos a regularização Ridge utilizando diferentes valores de alpha \\([0, 0.001, 0.005, 0.01, 0.05, 0.1]\\). O desempenho de cada configuração será avaliado na base de testes.\n",
    "\n",
    "2. **Regressão Lasso**: Em seguida, utilizaremos a regularização Lasso com os mesmos valores de alpha mencionados anteriormente. A performance também será avaliada na base de testes.\n",
    "\n",
    "3. **Modelagem Stepwise**: Construiremos modelos stepwise com diferentes configurações:\n",
    "   - Renda como variável dependente, considerando todas as variáveis independentes e removendo aquelas que não forem estatisticamente significativas.\n",
    "   - Log(renda) como variável dependente, repetindo o processo de remoção de variáveis não significativas.\n",
    "   - Inclusão de termos polinomiais para variáveis numéricas, avaliando o impacto dessas transformações no ajuste do modelo.\n",
    "\n",
    "4. **Árvores de Regressão**: Por fim, desenvolveremos modelos baseados em árvores de regressão. Ajustaremos os hiperparâmetros para otimizar o desempenho e maximizar o coeficiente de determinação (R²).\n",
    "\n",
    "O modelo final será escolhido com base na performance comparativa de cada técnica, priorizando o melhor equilíbrio entre precisão e simplicidade.\n",
    "\n",
    "[Voltar ao índice](#Contents)\n"
   ]
  },
  {
   "cell_type": "markdown",
   "metadata": {},
   "source": [
    "## **Regressão Ridge**"
   ]
  },
  {
   "cell_type": "code",
   "execution_count": null,
   "metadata": {},
   "outputs": [],
   "source": [
    "# Ridge regression \n",
    "print(\"\\nRidge Model............................................\\n\")\n",
    "\n",
    "list_alpha = [0, 0.001, 0.005, 0.01, 0.05, 0.1]\n",
    "\n",
    "for alpha in list_alpha:\n",
    "  Ridge_reg = Ridge(alpha=alpha) # Criando o Modelo\n",
    "\n",
    "  Ridge_reg.fit(X_test, y_test) # Treinando o Modelo\n",
    "\n",
    "  # y predito\n",
    "  y_pred_test = Ridge_reg.predict(X_test)\n",
    "\n",
    "  # R²\n",
    "  r_quad = r2_score(y_test, y_pred_test)\n",
    "  print(f' O R² para o alpha de {alpha} é de {r_quad}')"
   ]
  },
  {
   "cell_type": "markdown",
   "metadata": {},
   "source": [
    "## **Regressão Lasso**"
   ]
  },
  {
   "cell_type": "code",
   "execution_count": null,
   "metadata": {},
   "outputs": [],
   "source": [
    "#Lasso regression model\n",
    "print(\"\\nLasso Model............................................\\n\")\n",
    "\n",
    "list_alpha = [0, 0.001, 0.005, 0.01, 0.05, 0.1]\n",
    "\n",
    "\n",
    "for alpha in list_alpha:\n",
    "    Lasso_reg = Lasso(alpha=alpha)\n",
    "\n",
    "    Lasso_reg.fit(X_test, y_test)\n",
    "\n",
    "    # y predito\n",
    "    y_pred_test = Lasso_reg.predict(X_test)\n",
    "\n",
    "    # R²\n",
    "\n",
    "    r_quad = r2_score(y_test, y_pred_test)\n",
    "    print(f' O R² para o alpha de {alpha} é de {r_quad}')"
   ]
  },
  {
   "cell_type": "markdown",
   "metadata": {},
   "source": [
    "##  **Modelagem Stepwise**"
   ]
  },
  {
   "cell_type": "markdown",
   "metadata": {},
   "source": [
    "- Renda como variável dependente e demais variáveis explicativas"
   ]
  },
  {
   "cell_type": "code",
   "execution_count": null,
   "metadata": {},
   "outputs": [],
   "source": [
    "# Modelo de regressão linear com todas variáveis\n",
    "modelo_reg = smf.ols(\n",
    "    formula=\"\"\"\n",
    "    renda ~\n",
    "    posse_de_veiculo +\n",
    "    posse_de_imovel +\n",
    "    qtd_filhos +\n",
    "    idade +\n",
    "    tempo_emprego +\n",
    "    qt_pessoas_residencia +\n",
    "    sexo_f +\n",
    "    sexo_m +\n",
    "    tipo_renda_assalariado +\n",
    "    tipo_renda_bolsista +\n",
    "    tipo_renda_empresario +\n",
    "    tipo_renda_pensionista +\n",
    "    tipo_renda_servidor_publico +\n",
    "    educacao_primario +\n",
    "    educacao_pos_graduacao +\n",
    "    educacao_secundario +\n",
    "    educacao_superior_completo +\n",
    "    educacao_superior_incompleto +\n",
    "    estado_civil_casado +\n",
    "    estado_civil_separado +\n",
    "    estado_civil_solteiro +\n",
    "    estado_civil_uniao +\n",
    "    estado_civil_viuvo +\n",
    "    tipo_residencia_aluguel +\n",
    "    tipo_residencia_casa +\n",
    "    tipo_residencia_com_os_pais +\n",
    "    tipo_residencia_comunitario +\n",
    "    tipo_residencia_estudio +\n",
    "    tipo_residencia_governamental\n",
    "    \"\"\",\n",
    "    data=df_dummies\n",
    ").fit()\n",
    "\n",
    "# Resumo do modelo\n",
    "modelo_reg.summary()\n"
   ]
  },
  {
   "cell_type": "markdown",
   "metadata": {},
   "source": [
    "- Modelo de renda com variaveis significativas"
   ]
  },
  {
   "cell_type": "code",
   "execution_count": null,
   "metadata": {},
   "outputs": [],
   "source": [
    "# Modelo de regressão linear com variáveis significativas\n",
    "modelo_reg2 = smf.ols(\n",
    "    formula=\"\"\"\n",
    "    renda ~\n",
    "    posse_de_imovel +\n",
    "    sexo_f +\n",
    "    sexo_m +\n",
    "    idade +\n",
    "    tempo_emprego\n",
    "\n",
    "    \"\"\",\n",
    "    data=df_dummies\n",
    ").fit()\n",
    "\n",
    "# Resumo do modelo\n",
    "modelo_reg2.summary()\n"
   ]
  },
  {
   "cell_type": "markdown",
   "metadata": {},
   "source": [
    "- log(renda) e var"
   ]
  },
  {
   "cell_type": "code",
   "execution_count": null,
   "metadata": {},
   "outputs": [],
   "source": [
    "# Modelo de regressão linear de log(renda) com todas variáveis \n",
    "modelo_reg_log = smf.ols(\n",
    "    formula=\"\"\"\n",
    "    np.log(renda) ~\n",
    "    posse_de_veiculo +\n",
    "    posse_de_imovel +\n",
    "    qtd_filhos +\n",
    "    idade +\n",
    "    tempo_emprego +\n",
    "    qt_pessoas_residencia +\n",
    "    sexo_f +\n",
    "    sexo_m +\n",
    "    tipo_renda_assalariado +\n",
    "    tipo_renda_bolsista +\n",
    "    tipo_renda_empresario +\n",
    "    tipo_renda_pensionista +\n",
    "    tipo_renda_servidor_publico +\n",
    "    educacao_primario +\n",
    "    educacao_pos_graduacao +\n",
    "    educacao_secundario +\n",
    "    educacao_superior_completo +\n",
    "    educacao_superior_incompleto +\n",
    "    estado_civil_casado +\n",
    "    estado_civil_separado +\n",
    "    estado_civil_solteiro +\n",
    "    estado_civil_uniao +\n",
    "    estado_civil_viuvo +\n",
    "    tipo_residencia_aluguel +\n",
    "    tipo_residencia_casa +\n",
    "    tipo_residencia_com_os_pais +\n",
    "    tipo_residencia_comunitario +\n",
    "    tipo_residencia_estudio +\n",
    "    tipo_residencia_governamental\n",
    "    \"\"\",\n",
    "    data=df_dummies\n",
    ").fit()\n",
    "\n",
    "# Resumo do modelo\n",
    "modelo_reg_log.summary()\n"
   ]
  },
  {
   "cell_type": "markdown",
   "metadata": {},
   "source": [
    "- Modelo de regressãom polinonimal "
   ]
  },
  {
   "cell_type": "code",
   "execution_count": null,
   "metadata": {},
   "outputs": [],
   "source": [
    "# Criando o modelo de regressão polinomial\n",
    "modelo_polinomial = smf.ols(\n",
    "    formula=\"\"\"\n",
    "    np.log(renda) ~\n",
    "    posse_de_veiculo +\n",
    "    posse_de_imovel +\n",
    "    qtd_filhos + I(qtd_filhos**2) +\n",
    "    idade + I(idade**2) + I(idade**3) +  \n",
    "    tempo_emprego + I(tempo_emprego**2) +\n",
    "    qt_pessoas_residencia +I(qt_pessoas_residencia**2) +\n",
    "    sexo_f +\n",
    "    sexo_m +\n",
    "    tipo_renda_assalariado +\n",
    "    tipo_renda_bolsista +\n",
    "    tipo_renda_empresario +\n",
    "    tipo_renda_pensionista +\n",
    "    tipo_renda_servidor_publico +\n",
    "    educacao_primario +\n",
    "    educacao_pos_graduacao +\n",
    "    educacao_secundario +\n",
    "    educacao_superior_completo +\n",
    "    educacao_superior_incompleto +\n",
    "    estado_civil_casado +\n",
    "    estado_civil_separado +\n",
    "    estado_civil_solteiro +\n",
    "    estado_civil_uniao +\n",
    "    estado_civil_viuvo +\n",
    "    tipo_residencia_aluguel +\n",
    "    tipo_residencia_casa +\n",
    "    tipo_residencia_com_os_pais +\n",
    "    tipo_residencia_comunitario +\n",
    "    tipo_residencia_estudio +\n",
    "    tipo_residencia_governamental\n",
    "    \"\"\",\n",
    "    data=df_dummies\n",
    ").fit()\n",
    "\n",
    "# Exibindo o resumo do modelo\n",
    "modelo_polinomial.summary()\n"
   ]
  },
  {
   "cell_type": "markdown",
   "metadata": {},
   "source": [
    "## **Árvores de Regressão**"
   ]
  },
  {
   "cell_type": "markdown",
   "metadata": {},
   "source": [
    "<p align = \"justify\">Antes de avançarmos para a construção do modelo de árvore de regressão, é essencial realizar o ajuste dos hiperparâmetros. Essa etapa é crucial para otimizar o desempenho preditivo, assegurando que o modelo esteja adequadamente configurado para identificar as variáveis mais relevantes que impactam o resultado. O principal objetivo é maximizar o valor do R², aumentando a precisão das previsões e reduzindo o risco de overfitting ou underfitting. Para isso, utilizaremos o método <b><code>GridSearchCV()</code></b>, que nos permitirá identificar a combinação ideal de parâmetros para aprimorar nosso modelo preditivo.</p>"
   ]
  },
  {
   "cell_type": "code",
   "execution_count": null,
   "metadata": {},
   "outputs": [],
   "source": [
    "# Definindo o grid de parâmetros para testar\n",
    "param_grid = {\n",
    "    'max_depth': [3, 5, 10, None],\n",
    "    'min_samples_split': [2, 5, 10],\n",
    "    'min_samples_leaf': [1, 2, 4]}\n",
    "\n",
    "\n",
    "# Criando o modelo base\n",
    "tree_model = DecisionTreeRegressor(random_state=42)\n",
    "\n",
    "# Aplicando GridSearch para encontrar os melhores parâmetros\n",
    "grid_search = GridSearchCV(tree_model, param_grid, cv=5, scoring='r2')\n",
    "grid_search.fit(X_train, y_train)\n",
    "\n",
    "# Melhor modelo encontrado\n",
    "best_tree = grid_search.best_estimator_\n",
    "\n",
    "# Fazendo previsões e calculando o R²\n",
    "y_pred_tree = best_tree.predict(X_test)\n",
    "r2_tree = r2_score(y_test, y_pred_tree)\n",
    "\n",
    "print(f'Melhor R² com árvore de regressão: {r2_tree}')\n",
    "print(f'Melhores parâmetros: {grid_search.best_params_}')"
   ]
  },
  {
   "cell_type": "markdown",
   "metadata": {},
   "source": [
    "<p align =\"justify\"> Após a análise dos melhores valores para os hiperparâmetros da nossa árvore de regressão, identificamos que os parâmetros ideais são: <b>{'max_depth': 5, 'min_samples_leaf': 2, 'min_samples_split': 2}</b>. Com essa configuração, o modelo alcançou o melhor desempenho, obtendo um R² de <b>0.3698</b>. Portanto, utilizaremos esses parâmetros para construir nosso modelo final.</p>"
   ]
  },
  {
   "cell_type": "markdown",
   "metadata": {},
   "source": [
    "## Rodando o Modelo"
   ]
  },
  {
   "cell_type": "code",
   "execution_count": null,
   "metadata": {},
   "outputs": [],
   "source": [
    "modelo = DecisionTreeRegressor(random_state= 42 ,max_depth = 5, min_samples_leaf = 4, min_samples_split = 2) # Criando o modelo\n",
    "modelo.fit(X_train, y_train) # Treinando o modelo\n",
    "\n",
    "y_pred = modelo.predict(X_test) # Fazendo as previsões\n",
    "\n",
    "r2_tree = r2_score(y_test, y_pred_tree) #  Calculando o R²\n",
    "print(f'R² com árvore de regressão: {r2_tree}')\n"
   ]
  },
  {
   "cell_type": "code",
   "execution_count": null,
   "metadata": {},
   "outputs": [],
   "source": [
    "modelo = DecisionTreeRegressor(random_state= 42 ,max_depth = 5, min_samples_leaf = 4, min_samples_split = 2) # Criando o modelo\n",
    "modelo.fit(X_train, y_train) # Treinando o modelo\n",
    "\n",
    "y_pred = modelo.predict(X_test) # Fazendo as previsões\n",
    "\n",
    "r2_tree = r2_score(y_test, y_pred_tree) #  Calculando o R²\n",
    "print(f'R² com árvore de regressão: {r2_tree}')"
   ]
  },
  {
   "cell_type": "markdown",
   "metadata": {},
   "source": [
    "# 5. Avaliação dos resultados\n"
   ]
  },
  {
   "cell_type": "markdown",
   "metadata": {},
   "source": [
    "Os resultados dos modelos mostram que ainda há espaço para melhorar a previsão da renda. O modelo **Stepwise com termos polinomiais** e a **regressão linear com log da renda** tiveram desempenhos parecidos, com \\( R² \\) de **0.350** e **0.348**, respectivamente. Isso indica que há alguma relação não-linear entre as variáveis e a renda, mas essas técnicas não trouxeram ganhos significativos em comparação à árvore de decisão.\n",
    "\n",
    "A **regressão linear com todas as variáveis** alcançou um \\(  R² \\) de **0.261**, e o modelo com **variáveis significativas** ficou um pouco abaixo, com **0.257**. Isso mostra que, mesmo variáveis não tão relevantes individualmente, ajudam o modelo a explicar um pouco melhor a renda. Ainda assim, o desempenho desses modelos lineares foi inferior aos modelos que consideram não-linearidades.\n",
    "\n",
    "Os modelos de regularização, **Lasso e Ridge**, tiveram um \\(  R² \\) de **0.2815**, superando a regressão linear simples. Isso indica que havia problemas como multicolinearidade ou overfitting, que foram parcialmente resolvidos com a regularização, mas sem um ganho expressivo.\n",
    "\n",
    "O **DecisionTreeRegressor** teve o melhor desempenho com um \\(  R² \\) de **0.3698**, indicando que conseguiu capturar algumas relações não-lineares nos dados, mas ainda não explica bem a variabilidade total da renda. Esse valor sugere que o modelo pode estar simplificando demais ou precisa de ajustes nos parâmetros. Em resumo, o melhor desempenho foi da árvore de decisão, mas o \\(  R² \\) ainda é baixo."
   ]
  },
  {
   "cell_type": "markdown",
   "metadata": {
    "id": "doHxZ_gplFkN"
   },
   "source": [
    "# 6. Implantação <a name=implantacao></a>\n",
    "\n",
    "<div style=\"text-align: justify\"\n",
    "    \n",
    "Nesta etapa, iremos simular os dados dos clientes para prever o valor estimado de sua renda com base em suas características individuais.\n",
    "\n",
    "[Voltar ao índice](#Contents)\n"
   ]
  },
  {
   "cell_type": "markdown",
   "metadata": {},
   "source": [
    "- Salvando a variável alvo"
   ]
  },
  {
   "cell_type": "code",
   "execution_count": null,
   "metadata": {},
   "outputs": [],
   "source": [
    "y"
   ]
  },
  {
   "cell_type": "code",
   "execution_count": null,
   "metadata": {},
   "outputs": [],
   "source": [
    "y.to_csv('y.csv', index=False)"
   ]
  },
  {
   "cell_type": "markdown",
   "metadata": {},
   "source": [
    "- Salvando as variáveis explicativas"
   ]
  },
  {
   "cell_type": "code",
   "execution_count": null,
   "metadata": {},
   "outputs": [],
   "source": [
    "X"
   ]
  },
  {
   "cell_type": "code",
   "execution_count": null,
   "metadata": {},
   "outputs": [],
   "source": [
    "X.to_csv('X.csv', index=False)\n"
   ]
  },
  {
   "cell_type": "code",
   "execution_count": null,
   "metadata": {},
   "outputs": [],
   "source": [
    "modelo = DecisionTreeRegressor(random_state= 42 ,max_depth = 5, min_samples_leaf = 4, min_samples_split = 2) # Criando o modelo\n",
    "modelo.fit(X, y)"
   ]
  },
  {
   "cell_type": "code",
   "execution_count": null,
   "metadata": {},
   "outputs": [],
   "source": [
    "def simulacao_renda(dados_cliente):\n",
    " \n",
    "  dados_cliente = np.array(dados_cliente).reshape(1, -1)\n",
    "  \n",
    "  # Fazendo a previsão com o modelo treinado\n",
    "  renda_prevista = modelo.predict(dados_cliente)\n",
    "  print(f' A renda prevista para o novo cliente é de: R${renda_prevista[0]:.2f}')\n"
   ]
  },
  {
   "cell_type": "code",
   "execution_count": null,
   "metadata": {},
   "outputs": [],
   "source": [
    "# Simulação de novos dados para previsão\n",
    "\n",
    "novo_cliente = pd.DataFrame({\n",
    "    'posse_de_veiculo': [1],        \n",
    "    'posse_de_imovel': [1],           \n",
    "    'qtd_filhos': [3],              \n",
    "    'idade': [32],                 \n",
    "    'tempo_emprego': [3],          \n",
    "    'qt_pessoas_residencia': [4],   \n",
    "    'renda': [0],                    \n",
    "    'sexo_f': [1],                \n",
    "    'sexo_m': [0],                   \n",
    "    'tipo_renda_assalariado': [1],   \n",
    "    'tipo_renda_bolsista': [0],      \n",
    "    'tipo_renda_empresario': [0],    \n",
    "    'tipo_renda_pensionista': [0],   \n",
    "    'tipo_renda_servidor_publico': [0],  \n",
    "    'educacao_primario': [0],        \n",
    "    'educacao_pos_graduacao': [0],   \n",
    "    'educacao_secundario': [1],    \n",
    "    'educacao_superior_completo': [0],\n",
    "    'educacao_superior_incompleto': [0],\n",
    "    'estado_civil_casado': [0],      \n",
    "    'estado_civil_separado': [0],    \n",
    "    'estado_civil_solteiro': [1],    \n",
    "    'estado_civil_uniao': [0],       \n",
    "    'estado_civil_viuvo': [0],       \n",
    "    'tipo_residencia_aluguel': [0],  \n",
    "    'tipo_residencia_casa': [1],     \n",
    "    'tipo_residencia_com_os_pais': [0],\n",
    "    'tipo_residencia_comunitario': [0],\n",
    "    'tipo_residencia_estudio': [0],  \n",
    "    'tipo_residencia_governamental': [0]\n",
    "})\n",
    "\n",
    "# Remover a variável 'renda' se for o alvo da previsão\n",
    "novo_cliente = novo_cliente.drop(columns=['renda'])\n"
   ]
  },
  {
   "cell_type": "code",
   "execution_count": null,
   "metadata": {},
   "outputs": [],
   "source": [
    "simulacao_renda(novo_cliente)"
   ]
  },
  {
   "cell_type": "markdown",
   "metadata": {},
   "source": [
    "# 7.**Conclusão**\n",
    "\n",
    "A partir dos resultados obtidos, é possível extrair algumas conclusões relevantes sobre o desempenho do nosso modelo. O **DecisionTreeRegressor** se destacou com o melhor resultado, apresentando um \\( R² \\) de **0.378**. Isso significa que o modelo conseguiu explicar **37,8%** da variação da renda, um valor que, embora superior aos demais modelos testados, ainda é considerado baixo. Esse desempenho sugere que os modelos aplicados não capturaram completamente a complexidade dos fatores que influenciam a renda, indicando a possível ausência de variáveis relevantes ou a presença de relações mais complexas que não foram devidamente modeladas.\n",
    "\n",
    "Embora o modelo ofereça **alguns insights sobre os fatores que influenciam a renda**, ele **não é suficientemente robusto para fornecer previsões precisas**. Esse cenário sugere que o problema é mais complexo e que aprimoramentos são necessários para melhorar a performance preditiva. Algumas possíveis abordagens incluem:**Explorar novos modelos** mais sofisticados, como **Random Forest**, **Gradient Boosting** ou **XGBoost**, que podem capturar melhor padrões complexos. Investir em **feature engineering**, criando novas variáveis, testando interações entre as existentes ou aplicando transformações que revelem relações ocultas. E**Ampliar a base de dados** ou incluir variáveis externas que possam influenciar a renda, como fatores econômicos, regionais ou comportamentais.\n",
    "\n",
    "Apesar das limitações, o modelo já fornece uma base sólida para entender quais variáveis têm maior impacto sobre a renda, servindo como um ponto de partida para análises mais aprofundadas e para o desenvolvimento de modelos mais eficazes."
   ]
  }
 ],
 "metadata": {
  "colab": {
   "cell_execution_strategy": "setup",
   "provenance": []
  },
  "kernelspec": {
   "display_name": "Python [conda env:base] *",
   "language": "python",
   "name": "conda-base-py"
  },
  "language_info": {
   "codemirror_mode": {
    "name": "ipython",
    "version": 3
   },
   "file_extension": ".py",
   "mimetype": "text/x-python",
   "name": "python",
   "nbconvert_exporter": "python",
   "pygments_lexer": "ipython3",
   "version": "3.12.7"
  }
 },
 "nbformat": 4,
 "nbformat_minor": 4
}
